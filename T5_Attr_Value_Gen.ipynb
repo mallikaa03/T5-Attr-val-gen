{
  "cells": [
    {
      "cell_type": "code",
      "execution_count": null,
      "metadata": {
        "colab": {
          "base_uri": "https://localhost:8080/"
        },
        "id": "E4s0B8HnV2va",
        "outputId": "2f0529aa-d742-47a8-c91f-75c72ecaaeb4"
      },
      "outputs": [
        {
          "name": "stdout",
          "output_type": "stream",
          "text": [
            "Total number of examples: 110484\n",
            "Number of examples with context, attribute, and value: 110484\n",
            "All examples have context, attribute, and value.\n"
          ]
        }
      ],
      "source": [
        "# Define the path to your dataset file\n",
        "data_file_path = 'publish_data.txt'\n",
        "\n",
        "# Initialize counters\n",
        "total_examples = 0\n",
        "examples_with_three_parts = 0\n",
        "\n",
        "# Read the dataset file\n",
        "with open(data_file_path, 'r', encoding='utf-8') as file:\n",
        "    lines = file.readlines()\n",
        "\n",
        "# Iterate through the lines to count examples and check their structure\n",
        "for line in lines:\n",
        "    line = line.strip()\n",
        "    if line:\n",
        "        total_examples += 1\n",
        "        parts = line.split(\"\u0001\")\n",
        "        if len(parts) == 3:\n",
        "            examples_with_three_parts += 1\n",
        "\n",
        "# Display the results\n",
        "print(f\"Total number of examples: {total_examples}\")\n",
        "print(f\"Number of examples with context, attribute, and value: {examples_with_three_parts}\")\n",
        "\n",
        "# Check if the numbers match\n",
        "if total_examples == examples_with_three_parts:\n",
        "    print(\"All examples have context, attribute, and value.\")\n",
        "else:\n",
        "    print(\"Some examples might not have context, attribute, and value.\")\n"
      ]
    },
    {
      "cell_type": "code",
      "execution_count": null,
      "metadata": {
        "colab": {
          "base_uri": "https://localhost:8080/"
        },
        "id": "gt8I2pKiWOxE",
        "outputId": "cef4d039-563d-49b0-ba50-66ef105baf3e"
      },
      "outputs": [
        {
          "name": "stdout",
          "output_type": "stream",
          "text": [
            "Sample triples with empty values:\n",
            "APG STO0045  Camping Stove Portable Cooking Equipment Welding BBQ Butane Hiking Camping Gas Burners Gas Adapter Torch Lighter\u0001Model\u0001NULL\n",
            "APG STO0045  Camping Stove Portable Cooking Equipment Welding BBQ Butane Hiking Camping Gas Burners Gas Adapter Torch Lighter\u0001Disposable\u0001NULL\n",
            "80LUX Mini Portable Camping Lantern Gas Light Tent Lamp Torch Hanging Glass Lamp as Fuel for Travel\u0001Material\u0001NULL\n",
            "BDZ-160-A Card furnace Windproof Portable Stoves Grill gas stove Outdoor dining essential supplies 10 minutes boiling time 2900W\u0001Color\u0001NULL\n",
            "BRS Portable Picnic Travel Camping Stove Power Gas Bottle Case Outdoor Energy Warehouse Unit Bin Stove Cylinder Gas Bin BBQ Tool\u0001Piece Number Of Wind Deflector\u0001NULL\n",
            "\n",
            "Sample triples with '-' values:\n",
            "Outdoor Two-person Cooker Camping Pan Cooker Camping Hiking Backpacking Picnics Outdoor Activities Convenient To Carry\u0001Applicable Seasoning Type\u0001-\n",
            "Portable Copper Fuel Alcohol Stove Mini Ultra-light Spirit Gas Stoves Camping Roast Food Small Hot Pot Windproof Cooking Hiking\u0001Applicable Seasoning Type\u0001-\n",
            "Wind-Screen Camping Wind Screen Camping Windshield Stove WindScreen FMW-510\u0001Applicable Seasoning Type\u0001-\n",
            "New Gas Torch Flame Gun Blowtorch Cooking Soldering Butane Autoignition gas-Burner Lighter Heating Welding gas burner flame\u0001Applicable Seasoning Type\u0001-\n",
            "None Outdoor Portable Water Bag Silicone Bite-Valve Hydration Pack Nozzle Water Bladder Accessory\u0001Temperature Range\u0001-\n",
            "\n",
            "Sample triples with '/' values:\n",
            "1000ML Water Bottle Cover Bag Pouch w/Strap Neoprene Water Bottle Carrier Insulated Bag Pouch Holder Shoulder Strap Black\u0001Weight\u0001/\n",
            "1000ML Water Bottle Cover Bag Pouch w/Strap Neoprene Water Bottle Carrier Insulated Bag Pouch Holder Shoulder Strap Black\u0001Temperature Range\u0001/\n",
            "4 PCS/Set 1L Water Bag Cleaning Kit Hydration Water Bladder Bag Cleaning Tube Hose Sucker Brushes Drying Rack for Camping Hiking\u0001Temperature Range\u0001/\n",
            "5pcs 30/40/50/60g Buoyancy EVA Inline Bobber Float Saltwater Fishing Floats Catfish Pike Live Bait Float\u0001Plastic Type\u0001/\n",
            "5pcs 30/40/50/60g Buoyancy EVA Inline Bobber Float Saltwater Fishing Floats Catfish Pike Live Bait Float\u0001Size\u0001/\n"
          ]
        }
      ],
      "source": [
        "# Define the path to your dataset file\n",
        "data_file_path = 'publish_data.txt'\n",
        "\n",
        "# Initialize lists to store sample triples\n",
        "empty_value_samples = []\n",
        "dash_value_samples = []\n",
        "slash_value_samples = []\n",
        "\n",
        "# Read the dataset file\n",
        "with open(data_file_path, 'r', encoding='utf-8') as file:\n",
        "    for line in file:\n",
        "        line = line.strip()\n",
        "        if line:\n",
        "            context, attribute, value = line.split(\"\u0001\")\n",
        "            if value == 'NULL':\n",
        "                empty_value_samples.append(line)\n",
        "            elif value=='-':\n",
        "                dash_value_samples.append(line)\n",
        "            elif value=='/':\n",
        "                slash_value_samples.append(line)\n",
        "\n",
        "# Display sample triples with empty values\n",
        "print(\"Sample triples with empty values:\")\n",
        "for sample in empty_value_samples[:5]:  # Display first 5 samples\n",
        "    print(sample)\n",
        "\n",
        "# Display sample triples with '-' values\n",
        "print(\"\\nSample triples with '-' values:\")\n",
        "for sample in dash_value_samples[:5]:  # Display first 5 samples\n",
        "    print(sample)\n",
        "\n",
        "# Display sample triples with '/' values\n",
        "print(\"\\nSample triples with '/' values:\")\n",
        "for sample in slash_value_samples[:5]:  # Display first 5 samples\n",
        "    print(sample)\n"
      ]
    },
    {
      "cell_type": "code",
      "execution_count": null,
      "metadata": {
        "colab": {
          "base_uri": "https://localhost:8080/"
        },
        "id": "QlOG6ClkW0Ua",
        "outputId": "afffabc9-9898-49b4-b04c-9f29486ecdd8"
      },
      "outputs": [
        {
          "name": "stdout",
          "output_type": "stream",
          "text": [
            "Preprocessing completed. Clean data saved to: preprocessed_dataset.txt\n"
          ]
        }
      ],
      "source": [
        "# Define the path to your dataset file\n",
        "data_file_path = 'publish_data.txt'\n",
        "output_file_path = 'preprocessed_dataset.txt'\n",
        "\n",
        "# Define the path to your dataset file\n",
        "\n",
        "\n",
        "# Read the dataset file and write preprocessed data to a new file\n",
        "with open(data_file_path, 'r', encoding='utf-8') as input_file, open(output_file_path, 'w', encoding='utf-8') as output_file:\n",
        "    for line in input_file:\n",
        "        line = line.strip()\n",
        "        if line:\n",
        "            parts = line.split('\u0001')\n",
        "            if len(parts) == 3:\n",
        "                context, attribute, value = parts\n",
        "                # Check if value is not 'NULL'\n",
        "                if value != 'NULL':\n",
        "                    output_file.write(line + '\\n')\n",
        "\n",
        "print(\"Preprocessing completed. Clean data saved to:\", output_file_path)\n",
        "\n"
      ]
    },
    {
      "cell_type": "code",
      "execution_count": null,
      "metadata": {
        "colab": {
          "base_uri": "https://localhost:8080/"
        },
        "id": "kIEQud7OZZg4",
        "outputId": "432124c8-eb72-46a0-8868-af2e7f755da4"
      },
      "outputs": [
        {
          "name": "stdout",
          "output_type": "stream",
          "text": [
            "Total number of examples: 88916\n",
            "Number of examples with context, attribute, and value: 88916\n",
            "All examples have context, attribute, and value.\n"
          ]
        }
      ],
      "source": [
        "# Define the path to your dataset file\n",
        "data_file_path = 'preprocessed_dataset.txt'\n",
        "\n",
        "# Initialize counters\n",
        "total_examples = 0\n",
        "examples_with_three_parts = 0\n",
        "\n",
        "# Read the dataset file\n",
        "with open(data_file_path, 'r', encoding='utf-8') as file:\n",
        "    lines = file.readlines()\n",
        "\n",
        "# Iterate through the lines to count examples and check their structure\n",
        "for line in lines:\n",
        "    line = line.strip()\n",
        "    if line:\n",
        "        total_examples += 1\n",
        "        parts = line.split(\"\u0001\")\n",
        "        if len(parts) == 3:\n",
        "            examples_with_three_parts += 1\n",
        "\n",
        "# Display the results\n",
        "print(f\"Total number of examples: {total_examples}\")\n",
        "print(f\"Number of examples with context, attribute, and value: {examples_with_three_parts}\")\n",
        "\n",
        "# Check if the numbers match\n",
        "if total_examples == examples_with_three_parts:\n",
        "    print(\"All examples have context, attribute, and value.\")\n",
        "else:\n",
        "    print(\"Some examples might not have context, attribute, and value.\")\n"
      ]
    },
    {
      "cell_type": "code",
      "execution_count": null,
      "metadata": {
        "colab": {
          "base_uri": "https://localhost:8080/"
        },
        "id": "i1FOpX60dNO0",
        "outputId": "d31d4196-392e-4fe5-ef9d-de866cf83999"
      },
      "outputs": [
        {
          "name": "stdout",
          "output_type": "stream",
          "text": [
            "Preprocessing completed. Clean data saved to: preprocessed_dataset2.txt\n"
          ]
        }
      ],
      "source": [
        "# Define the path to your dataset file\n",
        "data_file_path = 'publish_data.txt'\n",
        "output_file_path = 'preprocessed_dataset2.txt'\n",
        "\n",
        "# Read the dataset file and write preprocessed data to a new file\n",
        "with open(data_file_path, 'r', encoding='utf-8') as input_file, open(output_file_path, 'w', encoding='utf-8') as output_file:\n",
        "    for line in input_file:\n",
        "        line = line.strip()\n",
        "        if line:\n",
        "            context, attribute, value = line.split('\u0001')\n",
        "            # Check if value is not '-', and not '/'\n",
        "            if value != '-' and value!='/':\n",
        "                output_file.write(line + '\\n')\n",
        "\n",
        "print(\"Preprocessing completed. Clean data saved to:\", output_file_path)\n"
      ]
    },
    {
      "cell_type": "code",
      "execution_count": 1,
      "metadata": {
        "colab": {
          "base_uri": "https://localhost:8080/"
        },
        "id": "hP2NSJPYc_c4",
        "outputId": "e2149a7c-542a-4c3d-de2b-b76d9ee624dc"
      },
      "outputs": [
        {
          "output_type": "stream",
          "name": "stdout",
          "text": [
            "Total number of examples: 110296\n",
            "Number of examples with context, attribute, and value: 110296\n",
            "All examples have context, attribute, and value.\n"
          ]
        }
      ],
      "source": [
        "# Define the path to your dataset file\n",
        "data_file_path = 'preprocessed_dataset2.txt'\n",
        "\n",
        "# Initialize counters\n",
        "total_examples = 0\n",
        "examples_with_three_parts = 0\n",
        "\n",
        "# Read the dataset file\n",
        "with open(data_file_path, 'r', encoding='utf-8') as file:\n",
        "    lines = file.readlines()\n",
        "\n",
        "# Iterate through the lines to count examples and check their structure\n",
        "for line in lines:\n",
        "    line = line.strip()\n",
        "    if line:\n",
        "        total_examples += 1\n",
        "        parts = line.split(\"\u0001\")\n",
        "        if len(parts) == 3:\n",
        "            examples_with_three_parts += 1\n",
        "\n",
        "# Display the results\n",
        "print(f\"Total number of examples: {total_examples}\")\n",
        "print(f\"Number of examples with context, attribute, and value: {examples_with_three_parts}\")\n",
        "\n",
        "# Check if the numbers match\n",
        "if total_examples == examples_with_three_parts:\n",
        "    print(\"All examples have context, attribute, and value.\")\n",
        "else:\n",
        "    print(\"Some examples might not have context, attribute, and value.\")\n"
      ]
    },
    {
      "cell_type": "code",
      "execution_count": 2,
      "metadata": {
        "colab": {
          "base_uri": "https://localhost:8080/"
        },
        "id": "1LogkPI1ezZn",
        "outputId": "2880ca02-db0c-4dc9-83b0-052f6f77c317"
      },
      "outputs": [
        {
          "output_type": "stream",
          "name": "stdout",
          "text": [
            "APG STO0045  Camping Stove Portable Cooking Equipment Welding BBQ Butane Hiking Camping Gas Burners Gas Adapter Torch Lighter\u0001Fuel\u0001Gas\n",
            "APG STO0045  Camping Stove Portable Cooking Equipment Welding BBQ Butane Hiking Camping Gas Burners Gas Adapter Torch Lighter\u0001Brand Name\u0001APG\n",
            "APG STO0045  Camping Stove Portable Cooking Equipment Welding BBQ Butane Hiking Camping Gas Burners Gas Adapter Torch Lighter\u0001Model\u0001NULL\n",
            "APG STO0045  Camping Stove Portable Cooking Equipment Welding BBQ Butane Hiking Camping Gas Burners Gas Adapter Torch Lighter\u0001Disposable\u0001NULL\n",
            "80LUX Mini Portable Camping Lantern Gas Light Tent Lamp Torch Hanging Glass Lamp as Fuel for Travel\u0001Material\u0001NULL\n"
          ]
        }
      ],
      "source": [
        "# Define the path to your dataset file\n",
        "data_file_path = 'preprocessed_dataset2.txt'\n",
        "\n",
        "# Read and print a few lines from the dataset\n",
        "with open(data_file_path, 'r', encoding='utf-8') as input_file:\n",
        "    for _ in range(5):\n",
        "        line = input_file.readline().strip()\n",
        "        print(line)\n"
      ]
    },
    {
      "cell_type": "code",
      "execution_count": 3,
      "metadata": {
        "colab": {
          "base_uri": "https://localhost:8080/"
        },
        "id": "CZaZmXBjfsQ-",
        "outputId": "148f4747-4072-4cae-a1c3-317e23a96207"
      },
      "outputs": [
        {
          "output_type": "stream",
          "name": "stdout",
          "text": [
            "Number of unique attributes: 2761\n",
            "Number of unique values: 12607\n",
            "Number of triples with value as NULL: 21568\n"
          ]
        }
      ],
      "source": [
        "from collections import Counter\n",
        "\n",
        "# Define the path to your dataset file\n",
        "data_file_path = 'preprocessed_dataset2.txt'\n",
        "\n",
        "# Initialize counters for unique attributes, unique values, and NULL values\n",
        "unique_attributes = set()\n",
        "unique_values = set()\n",
        "null_value_count = 0\n",
        "\n",
        "# Read the dataset file\n",
        "with open(data_file_path, 'r', encoding='utf-8') as input_file:\n",
        "    for line in input_file:\n",
        "        line = line.strip()\n",
        "        if line:\n",
        "            _, attribute, value = line.split('\u0001')  # Use the ASCII character directly\n",
        "            unique_attributes.add(attribute)\n",
        "            unique_values.add(value)\n",
        "            if value == \"NULL\":\n",
        "                null_value_count += 1\n",
        "\n",
        "# Print the results\n",
        "print(\"Number of unique attributes:\", len(unique_attributes))\n",
        "print(\"Number of unique values:\", len(unique_values))\n",
        "print(\"Number of triples with value as NULL:\", null_value_count)\n"
      ]
    },
    {
      "cell_type": "code",
      "execution_count": 27,
      "metadata": {
        "colab": {
          "base_uri": "https://localhost:8080/"
        },
        "id": "51ln74tsgpsu",
        "outputId": "ed48a98e-c2b3-49ee-9753-cf0d51d317e5"
      },
      "outputs": [
        {
          "output_type": "stream",
          "name": "stdout",
          "text": [
            "Number of triples in training set: 77207\n",
            "Number of triples in validation set: 22169\n",
            "Number of triples in test set: 10920\n"
          ]
        }
      ],
      "source": [
        "from sklearn.model_selection import train_test_split\n",
        "\n",
        "# Define the path to your dataset file\n",
        "data_file_path = 'preprocessed_dataset2.txt'\n",
        "\n",
        "# Read the dataset file and store the triples in a list\n",
        "triples = []\n",
        "with open(data_file_path, 'r', encoding='utf-8') as input_file:\n",
        "    for line in input_file:\n",
        "        line = line.strip()\n",
        "        if line:\n",
        "            context, attribute, value = line.split('\\x01')  # Use the ASCII character directly\n",
        "            triples.append((context, attribute, value))\n",
        "\n",
        "# Split the triples into train, validation, and test sets\n",
        "train_set, temp_set = train_test_split(triples, test_size=0.3, random_state=42)\n",
        "val_set, test_set = train_test_split(temp_set, test_size=0.33, random_state=42)\n",
        "\n",
        "# Print the counts for each set\n",
        "print(\"Number of triples in training set:\", len(train_set))\n",
        "print(\"Number of triples in validation set:\", len(val_set))\n",
        "print(\"Number of triples in test set:\", len(test_set))\n"
      ]
    },
    {
      "cell_type": "code",
      "source": [
        "test_set[10]"
      ],
      "metadata": {
        "colab": {
          "base_uri": "https://localhost:8080/"
        },
        "id": "ZLeCH_sHYfyk",
        "outputId": "b0354e53-410b-4e20-bd2d-e04c7a9d6346"
      },
      "execution_count": 29,
      "outputs": [
        {
          "output_type": "execute_result",
          "data": {
            "text/plain": [
              "('Hot Sale 16x25 Portable High Power Military Full Optical Telescope Monocular Night Vision Monocular for Outdoors Hunting Camping',\n",
              " 'Type',\n",
              " 'Monocular')"
            ]
          },
          "metadata": {},
          "execution_count": 29
        }
      ]
    },
    {
      "cell_type": "code",
      "execution_count": 6,
      "metadata": {
        "colab": {
          "base_uri": "https://localhost:8080/"
        },
        "id": "XNnx0ZQSiXVY",
        "outputId": "0c8c62f0-3a5f-4a5c-e2e6-667142f72c4e"
      },
      "outputs": [
        {
          "output_type": "stream",
          "name": "stdout",
          "text": [
            "Top 5 most frequent attributes:\n",
            "Gender : 16910\n",
            "Brand Name : 11427\n",
            "Model Number : 9044\n",
            "Sport Type : 8096\n",
            "Athletic Shoe Type : 5934\n"
          ]
        }
      ],
      "source": [
        "attributes = []\n",
        "with open(data_file_path, 'r', encoding='utf-8') as input_file:\n",
        "    for line in input_file:\n",
        "        line = line.strip()\n",
        "        if line:\n",
        "            _, attribute, _ = line.split('\\x01')  # Use the ASCII character directly\n",
        "            attributes.append(attribute)\n",
        "\n",
        "# Count the occurrences of each attribute\n",
        "attribute_counts = Counter(attributes)\n",
        "\n",
        "# Get the top 5 most frequent attributes\n",
        "top_frequent_attributes = attribute_counts.most_common(5)\n",
        "\n",
        "# Print the top 5 most frequent attributes\n",
        "print(\"Top 5 most frequent attributes:\")\n",
        "for attribute, count in top_frequent_attributes:\n",
        "    print(attribute, \":\", count)"
      ]
    },
    {
      "cell_type": "code",
      "execution_count": 7,
      "metadata": {
        "colab": {
          "base_uri": "https://localhost:8080/"
        },
        "id": "auqrcA0fin5N",
        "outputId": "f996708d-fff1-4a67-80ee-b6c04286fd6c"
      },
      "outputs": [
        {
          "output_type": "stream",
          "name": "stdout",
          "text": [
            "Frequency of specific attributes:\n",
            "Color : 848\n",
            "Category : 966\n",
            "Material : 3808\n"
          ]
        }
      ],
      "source": [
        "data_file_path='preprocessed_dataset2.txt'\n",
        "attributes = []\n",
        "with open(data_file_path, 'r', encoding='utf-8') as input_file:\n",
        "    for line in input_file:\n",
        "        line = line.strip()\n",
        "        if line:\n",
        "            _, attribute, _ = line.split('\\x01')  # Use the ASCII character directly\n",
        "            attributes.append(attribute)\n",
        "\n",
        "# Count the occurrences of each attribute\n",
        "attribute_counts = Counter(attributes)\n",
        "\n",
        "# Print the frequency of specific attributes\n",
        "specific_attributes = [\"Color\", \"Category\", \"Material\"]\n",
        "print(\"Frequency of specific attributes:\")\n",
        "for attribute in specific_attributes:\n",
        "    count = attribute_counts.get(attribute, 0)\n",
        "    print(attribute, \":\", count)\n",
        "\n",
        "\n",
        "\n",
        "\n",
        "\n",
        "\n"
      ]
    },
    {
      "cell_type": "code",
      "execution_count": 8,
      "metadata": {
        "colab": {
          "base_uri": "https://localhost:8080/"
        },
        "id": "Hnkxyjeikmjv",
        "outputId": "44a63130-aac4-4a2f-b3b2-5ebc7dfb1a6f"
      },
      "outputs": [
        {
          "output_type": "stream",
          "name": "stdout",
          "text": [
            "Collecting transformers\n",
            "  Downloading transformers-4.31.0-py3-none-any.whl (7.4 MB)\n",
            "\u001b[2K     \u001b[90m━━━━━━━━━━━━━━━━━━━━━━━━━━━━━━━━━━━━━━━━\u001b[0m \u001b[32m7.4/7.4 MB\u001b[0m \u001b[31m26.5 MB/s\u001b[0m eta \u001b[36m0:00:00\u001b[0m\n",
            "\u001b[?25hRequirement already satisfied: filelock in /usr/local/lib/python3.10/dist-packages (from transformers) (3.12.2)\n",
            "Collecting huggingface-hub<1.0,>=0.14.1 (from transformers)\n",
            "  Downloading huggingface_hub-0.16.4-py3-none-any.whl (268 kB)\n",
            "\u001b[2K     \u001b[90m━━━━━━━━━━━━━━━━━━━━━━━━━━━━━━━━━━━━━━\u001b[0m \u001b[32m268.8/268.8 kB\u001b[0m \u001b[31m30.2 MB/s\u001b[0m eta \u001b[36m0:00:00\u001b[0m\n",
            "\u001b[?25hRequirement already satisfied: numpy>=1.17 in /usr/local/lib/python3.10/dist-packages (from transformers) (1.23.5)\n",
            "Requirement already satisfied: packaging>=20.0 in /usr/local/lib/python3.10/dist-packages (from transformers) (23.1)\n",
            "Requirement already satisfied: pyyaml>=5.1 in /usr/local/lib/python3.10/dist-packages (from transformers) (6.0.1)\n",
            "Requirement already satisfied: regex!=2019.12.17 in /usr/local/lib/python3.10/dist-packages (from transformers) (2023.6.3)\n",
            "Requirement already satisfied: requests in /usr/local/lib/python3.10/dist-packages (from transformers) (2.31.0)\n",
            "Collecting tokenizers!=0.11.3,<0.14,>=0.11.1 (from transformers)\n",
            "  Downloading tokenizers-0.13.3-cp310-cp310-manylinux_2_17_x86_64.manylinux2014_x86_64.whl (7.8 MB)\n",
            "\u001b[2K     \u001b[90m━━━━━━━━━━━━━━━━━━━━━━━━━━━━━━━━━━━━━━━━\u001b[0m \u001b[32m7.8/7.8 MB\u001b[0m \u001b[31m87.3 MB/s\u001b[0m eta \u001b[36m0:00:00\u001b[0m\n",
            "\u001b[?25hCollecting safetensors>=0.3.1 (from transformers)\n",
            "  Downloading safetensors-0.3.2-cp310-cp310-manylinux_2_17_x86_64.manylinux2014_x86_64.whl (1.3 MB)\n",
            "\u001b[2K     \u001b[90m━━━━━━━━━━━━━━━━━━━━━━━━━━━━━━━━━━━━━━━━\u001b[0m \u001b[32m1.3/1.3 MB\u001b[0m \u001b[31m59.7 MB/s\u001b[0m eta \u001b[36m0:00:00\u001b[0m\n",
            "\u001b[?25hRequirement already satisfied: tqdm>=4.27 in /usr/local/lib/python3.10/dist-packages (from transformers) (4.66.0)\n",
            "Requirement already satisfied: fsspec in /usr/local/lib/python3.10/dist-packages (from huggingface-hub<1.0,>=0.14.1->transformers) (2023.6.0)\n",
            "Requirement already satisfied: typing-extensions>=3.7.4.3 in /usr/local/lib/python3.10/dist-packages (from huggingface-hub<1.0,>=0.14.1->transformers) (4.7.1)\n",
            "Requirement already satisfied: charset-normalizer<4,>=2 in /usr/local/lib/python3.10/dist-packages (from requests->transformers) (3.2.0)\n",
            "Requirement already satisfied: idna<4,>=2.5 in /usr/local/lib/python3.10/dist-packages (from requests->transformers) (3.4)\n",
            "Requirement already satisfied: urllib3<3,>=1.21.1 in /usr/local/lib/python3.10/dist-packages (from requests->transformers) (2.0.4)\n",
            "Requirement already satisfied: certifi>=2017.4.17 in /usr/local/lib/python3.10/dist-packages (from requests->transformers) (2023.7.22)\n",
            "Installing collected packages: tokenizers, safetensors, huggingface-hub, transformers\n",
            "Successfully installed huggingface-hub-0.16.4 safetensors-0.3.2 tokenizers-0.13.3 transformers-4.31.0\n"
          ]
        }
      ],
      "source": [
        "!pip install transformers"
      ]
    },
    {
      "cell_type": "code",
      "execution_count": 9,
      "metadata": {
        "colab": {
          "base_uri": "https://localhost:8080/"
        },
        "id": "Y7UqmNyCk4sT",
        "outputId": "40343652-6372-4f77-bae6-caa362c6855c"
      },
      "outputs": [
        {
          "output_type": "stream",
          "name": "stdout",
          "text": [
            "Collecting sentencepiece\n",
            "  Downloading sentencepiece-0.1.99-cp310-cp310-manylinux_2_17_x86_64.manylinux2014_x86_64.whl (1.3 MB)\n",
            "\u001b[?25l     \u001b[90m━━━━━━━━━━━━━━━━━━━━━━━━━━━━━━━━━━━━━━━━\u001b[0m \u001b[32m0.0/1.3 MB\u001b[0m \u001b[31m?\u001b[0m eta \u001b[36m-:--:--\u001b[0m\r\u001b[2K     \u001b[91m━━━━━━━\u001b[0m\u001b[91m╸\u001b[0m\u001b[90m━━━━━━━━━━━━━━━━━━━━━━━━━━━━━━━━\u001b[0m \u001b[32m0.2/1.3 MB\u001b[0m \u001b[31m7.9 MB/s\u001b[0m eta \u001b[36m0:00:01\u001b[0m\r\u001b[2K     \u001b[91m━━━━━━━━━━━━━━━━━━━━━━━━━━━━━━━━\u001b[0m\u001b[90m╺\u001b[0m\u001b[90m━━━━━━━\u001b[0m \u001b[32m1.0/1.3 MB\u001b[0m \u001b[31m15.6 MB/s\u001b[0m eta \u001b[36m0:00:01\u001b[0m\r\u001b[2K     \u001b[90m━━━━━━━━━━━━━━━━━━━━━━━━━━━━━━━━━━━━━━━━\u001b[0m \u001b[32m1.3/1.3 MB\u001b[0m \u001b[31m14.4 MB/s\u001b[0m eta \u001b[36m0:00:00\u001b[0m\n",
            "\u001b[?25hInstalling collected packages: sentencepiece\n",
            "Successfully installed sentencepiece-0.1.99\n"
          ]
        }
      ],
      "source": [
        "!pip install sentencepiece"
      ]
    },
    {
      "cell_type": "code",
      "execution_count": 10,
      "metadata": {
        "id": "g-OS9BTxkf5G"
      },
      "outputs": [],
      "source": [
        "from transformers import T5ForConditionalGeneration, T5Tokenizer"
      ]
    },
    {
      "cell_type": "code",
      "execution_count": 11,
      "metadata": {
        "colab": {
          "base_uri": "https://localhost:8080/",
          "height": 214,
          "referenced_widgets": [
            "2e84cbd4d1304927b2561ce70606d051",
            "19a91b035eb343d7ac72bcbe81f558bc",
            "51367a8aef36417a85fac995da93e025",
            "1d9a1f7b965848f5bd8f748b101f6060",
            "66cde9ebc54f46418c8d778ccfd0ade8",
            "ea61640d5c0e4589bee83fa1a0b8b968",
            "8bd1fb746cf8459aaed4e639cf0a0c29",
            "144af27789a44ec9822aaaa39e6678f2",
            "26b88736bcd24d24a8fd1421f6fb61ed",
            "8ace24a7c17348029b6abcfa2555ba8e",
            "e27173b5885f44a2b1bf95069bd08abc",
            "4ca4d75af3074f02b6a2bbbb0cc2b7fc",
            "2b835b29ff7845668897c76fe2a8347f",
            "37bf9216b2224547ba1e8a1d0ccf8139",
            "362c881f61a94ed1ace7590199f8b68b",
            "87412a1f0919418f8672eb823c2cfb91",
            "4a099617aa3f4fc4b78e32f0b2802b79",
            "ba02e9b2646f4b4dbc2f092a29fea610",
            "9e9acb4eb4834d8b9e47f9cd3b20a3d0",
            "635552d427f34f16ac0c2045e0b866dc",
            "bbc4300345a94144b23322f3453cd1e4",
            "9189c9c469af484caba7b2a0c60f8428",
            "29cf207063204584b6166aced2c31790",
            "d9a204d60d8f452f97774eca0cf97508",
            "3e228bf95acf4cfe99587d7a6f935e5a",
            "607e96581c7f46d2969c3486f5bfd04c",
            "9c234953010747e1af9d829d4e4e9380",
            "d776f8ad159a451e93a6faed91b65bcf",
            "71d6eb0125b947efae52ad461e6a7b18",
            "4f315a39874e4892a2c02e661c1d64d5",
            "4133a24dba10483e83dce53d41e96377",
            "d7b1c20773884a88b848368fa541579b",
            "e27c6ba3fdfb45508f932232ee94b3c2",
            "0ebdf67ac7f9409f9b1a23a0478d2ba5",
            "9005471d30724a2cb20dcb632a15b0ab",
            "47ba440223af46ed9ca9b5d119b5520e",
            "74261c23ca504c6b96d1e651d1ba4206",
            "96f4207faed94df1a0ea176e5d3c82e6",
            "951c84880dab4293966201fae9a50a87",
            "a8eb68ed799e432289ce7e271660d92b",
            "8a88cf6f3bde4464becdb2c6a578be30",
            "8ed4b72cdf93407f801983cf0e0595c6",
            "b02311107e82417ea9844053fc47c916",
            "0de98203c947440494e10a1ffc975cf5",
            "c21d5b9f70f94dadb30ddc1924bfaa70",
            "aab6a4ba8ae74478bf95266db4b33aa2",
            "0aedcfcc3afa4a7987443d6643a78906",
            "98438274884c441fbe21f320fb38dd72",
            "eb07409e2259470d82614531143ecc10",
            "d006a5103d1f4b0ea439bf3eb8b0bc1c",
            "e97d0687f6c94ecb92061ee6a9ce1225",
            "d44c27d933d742b38fed52875e3c11db",
            "959222942ce441f5b9441f7f364451a5",
            "8700efbe91d5447e8bcdd8795b385a16",
            "f6ebaa3034ba484aa37938e731308da7"
          ]
        },
        "id": "KsGftOZqLNTm",
        "outputId": "92c43473-5c91-453c-e772-e3a626d6edde"
      },
      "outputs": [
        {
          "output_type": "display_data",
          "data": {
            "text/plain": [
              "Downloading (…)lve/main/config.json:   0%|          | 0.00/1.21k [00:00<?, ?B/s]"
            ],
            "application/vnd.jupyter.widget-view+json": {
              "version_major": 2,
              "version_minor": 0,
              "model_id": "2e84cbd4d1304927b2561ce70606d051"
            }
          },
          "metadata": {}
        },
        {
          "output_type": "display_data",
          "data": {
            "text/plain": [
              "Downloading model.safetensors:   0%|          | 0.00/242M [00:00<?, ?B/s]"
            ],
            "application/vnd.jupyter.widget-view+json": {
              "version_major": 2,
              "version_minor": 0,
              "model_id": "4ca4d75af3074f02b6a2bbbb0cc2b7fc"
            }
          },
          "metadata": {}
        },
        {
          "output_type": "display_data",
          "data": {
            "text/plain": [
              "Downloading (…)neration_config.json:   0%|          | 0.00/147 [00:00<?, ?B/s]"
            ],
            "application/vnd.jupyter.widget-view+json": {
              "version_major": 2,
              "version_minor": 0,
              "model_id": "29cf207063204584b6166aced2c31790"
            }
          },
          "metadata": {}
        },
        {
          "output_type": "display_data",
          "data": {
            "text/plain": [
              "Downloading (…)ve/main/spiece.model:   0%|          | 0.00/792k [00:00<?, ?B/s]"
            ],
            "application/vnd.jupyter.widget-view+json": {
              "version_major": 2,
              "version_minor": 0,
              "model_id": "0ebdf67ac7f9409f9b1a23a0478d2ba5"
            }
          },
          "metadata": {}
        },
        {
          "output_type": "display_data",
          "data": {
            "text/plain": [
              "Downloading (…)okenizer_config.json:   0%|          | 0.00/2.32k [00:00<?, ?B/s]"
            ],
            "application/vnd.jupyter.widget-view+json": {
              "version_major": 2,
              "version_minor": 0,
              "model_id": "c21d5b9f70f94dadb30ddc1924bfaa70"
            }
          },
          "metadata": {}
        },
        {
          "output_type": "stream",
          "name": "stderr",
          "text": [
            "You are using the legacy behaviour of the <class 'transformers.models.t5.tokenization_t5.T5Tokenizer'>. This means that tokens that come after special tokens will not be properly handled. We recommend you to read the related pull request available at https://github.com/huggingface/transformers/pull/24565\n"
          ]
        }
      ],
      "source": [
        "model_name = \"t5-small\"  # You can use other sizes like \"t5-base\" or \"t5-large\"\n",
        "model = T5ForConditionalGeneration.from_pretrained(model_name)\n",
        "tokenizer = T5Tokenizer.from_pretrained(model_name)"
      ]
    },
    {
      "cell_type": "code",
      "execution_count": 14,
      "metadata": {
        "id": "wi48p9T-LRuT"
      },
      "outputs": [],
      "source": [
        "#!pip install datasets transformers[sentencepiece]\n",
        "#!pip install sentencepiece"
      ]
    },
    {
      "cell_type": "code",
      "execution_count": 15,
      "metadata": {
        "id": "8NHQy0F4NI2O"
      },
      "outputs": [],
      "source": [
        "import torch\n",
        "from torch.utils.data import Dataset, DataLoader\n",
        "from transformers import T5ForConditionalGeneration, T5Tokenizer, AdamW\n",
        "from sklearn.model_selection import train_test_split\n",
        "\n",
        "# Load pre-trained T5 model and tokenizer\n",
        "model = T5ForConditionalGeneration.from_pretrained(\"t5-small\")\n",
        "tokenizer = T5Tokenizer.from_pretrained(\"t5-small\")"
      ]
    },
    {
      "cell_type": "code",
      "execution_count": 16,
      "metadata": {
        "id": "v1tSoK5gOhLR"
      },
      "outputs": [],
      "source": [
        "#device = torch.device(\"cuda\" if torch.cuda.is_available() else \"cpu\")"
      ]
    },
    {
      "cell_type": "code",
      "execution_count": 30,
      "metadata": {
        "colab": {
          "base_uri": "https://localhost:8080/"
        },
        "id": "ZSaXv8_yNN6W",
        "outputId": "72f536ca-cfdc-47b7-ccb3-5bfe5224d173"
      },
      "outputs": [
        {
          "output_type": "stream",
          "name": "stderr",
          "text": [
            "/usr/local/lib/python3.10/dist-packages/transformers/optimization.py:411: FutureWarning: This implementation of AdamW is deprecated and will be removed in a future version. Use the PyTorch implementation torch.optim.AdamW instead, or set `no_deprecation_warning=True` to disable this warning\n",
            "  warnings.warn(\n"
          ]
        },
        {
          "output_type": "stream",
          "name": "stdout",
          "text": [
            "Epoch [1/5] - Avg Loss: 0.1554\n",
            "Epoch [2/5] - Avg Loss: 0.0246\n",
            "Epoch [3/5] - Avg Loss: 0.0175\n",
            "Epoch [4/5] - Avg Loss: 0.0142\n",
            "Epoch [5/5] - Avg Loss: 0.0122\n",
            "Validation Loss: 0.0099\n"
          ]
        }
      ],
      "source": [
        "import torch\n",
        "from torch.utils.data import Dataset, DataLoader\n",
        "from transformers import T5ForConditionalGeneration, T5Tokenizer, AdamW\n",
        "from sklearn.model_selection import train_test_split\n",
        "\n",
        "# Define the device (CPU or GPU)\n",
        "device = torch.device(\"cuda\" if torch.cuda.is_available() else \"cpu\")\n",
        "\n",
        "# Load pre-trained T5 model and tokenizer\n",
        "model = T5ForConditionalGeneration.from_pretrained(\"t5-small\")\n",
        "tokenizer = T5Tokenizer.from_pretrained(\"t5-small\")\n",
        "model.to(device)\n",
        "\n",
        "# Loading preprocessed dataset\n",
        "def load_dataset(file_path):\n",
        "    with open(file_path, \"r\", encoding=\"utf-8\") as file:\n",
        "        lines = file.readlines()\n",
        "    return [line.strip().split('\\t') for line in lines]\n",
        "\n",
        "# Replace with the path to your preprocessed dataset file\n",
        "dataset_file_path = \"preprocessed_dataset2.txt\"\n",
        "triples = load_dataset(dataset_file_path)\n",
        "\n",
        "\n",
        "# Definining a custom dataset\n",
        "class AttributeValueDataset(Dataset):\n",
        "    def __init__(self, data, tokenizer, max_length=128):\n",
        "        self.data = data\n",
        "        self.tokenizer = tokenizer\n",
        "        self.max_length = max_length\n",
        "\n",
        "    def __len__(self):\n",
        "        return len(self.data)\n",
        "\n",
        "    def __getitem__(self, idx):\n",
        "        context, attribute, value = self.data[idx]\n",
        "        input_text = f\"Context: {context} Attribute: {attribute} Answer:\"\n",
        "\n",
        "        inputs = self.tokenizer(input_text, return_tensors=\"pt\", padding=\"max_length\", truncation=True, max_length=self.max_length)\n",
        "        labels = self.tokenizer(value, return_tensors=\"pt\", padding=\"max_length\", truncation=True, max_length=self.max_length)\n",
        "\n",
        "        return {\n",
        "            \"input_ids\": inputs[\"input_ids\"].squeeze(),\n",
        "            \"attention_mask\": inputs[\"attention_mask\"].squeeze(),\n",
        "            \"labels\": labels[\"input_ids\"].squeeze()\n",
        "        }\n",
        "\n",
        "# Create data loaders\n",
        "train_dataset = AttributeValueDataset(train_set, tokenizer)\n",
        "val_dataset = AttributeValueDataset(val_set, tokenizer)\n",
        "test_dataset = AttributeValueDataset(test_set, tokenizer)\n",
        "\n",
        "train_loader = DataLoader(train_dataset, batch_size=32, shuffle=True)\n",
        "val_loader = DataLoader(val_dataset, batch_size=32)\n",
        "test_loader = DataLoader(test_dataset, batch_size=32)\n",
        "\n",
        "# Fine-tuning settings\n",
        "optimizer = AdamW(model.parameters(), lr=5e-5)\n",
        "num_epochs = 5\n",
        "\n",
        "# Training loop\n",
        "for epoch in range(num_epochs):\n",
        "    model.train()\n",
        "    total_loss = 0.0\n",
        "\n",
        "    for batch in train_loader:\n",
        "        optimizer.zero_grad()\n",
        "        inputs = batch[\"input_ids\"].to(device)\n",
        "        attention_mask = batch[\"attention_mask\"].to(device)\n",
        "        labels = batch[\"labels\"].to(device)\n",
        "\n",
        "        outputs = model(inputs, attention_mask=attention_mask, labels=labels)\n",
        "        loss = outputs.loss\n",
        "        loss.backward()\n",
        "        optimizer.step()\n",
        "\n",
        "        total_loss += loss.item()\n",
        "\n",
        "    avg_loss = total_loss / len(train_loader)\n",
        "    print(f\"Epoch [{epoch+1}/{num_epochs}] - Avg Loss: {avg_loss:.4f}\")\n",
        "\n",
        "# Evaluate on the validation set\n",
        "model.eval()\n",
        "with torch.no_grad():\n",
        "    val_loss = 0.0\n",
        "    for batch in val_loader:\n",
        "        inputs = batch[\"input_ids\"].to(device)\n",
        "        attention_mask = batch[\"attention_mask\"].to(device)\n",
        "        labels = batch[\"labels\"].to(device)\n",
        "\n",
        "        outputs = model(inputs, attention_mask=attention_mask, labels=labels)\n",
        "        loss = outputs.loss\n",
        "        val_loss += loss.item()\n",
        "\n",
        "    avg_val_loss = val_loss / len(val_loader)\n",
        "    print(f\"Validation Loss: {avg_val_loss:.4f}\")\n",
        "\n",
        "model.save_pretrained(\"fine_tuned_model\")\n",
        "\n"
      ]
    },
    {
      "cell_type": "code",
      "source": [
        "def exact_match(predicted, actual):\n",
        "    return predicted == actual\n",
        "\n",
        "def f1_precision_recall(predicted, actual):\n",
        "    true_positives = sum(p == a and p != 'None' for p, a in zip(predicted, actual))\n",
        "    false_positives = sum(p != a and p != 'None' for p, a in zip(predicted, actual))\n",
        "    false_negatives = sum(p == 'None' and a != 'None' for p, a in zip(predicted, actual))\n",
        "\n",
        "    precision = true_positives / (true_positives + false_positives + 1e-9)\n",
        "    recall = true_positives / (true_positives + false_negatives + 1e-9)\n",
        "    f1 = 2 * (precision * recall) / (precision + recall + 1e-9)\n",
        "\n",
        "    return f1, precision, recall\n"
      ],
      "metadata": {
        "id": "UvFIZXVAetDu"
      },
      "execution_count": 31,
      "outputs": []
    },
    {
      "cell_type": "code",
      "source": [
        "# Evaluate on the test set\n",
        "model.eval()\n",
        "exact_match_count = 0\n",
        "total_f1 = 0.0\n",
        "total_precision = 0.0\n",
        "total_recall = 0.0\n",
        "\n",
        "# Open a file to save the actual and predicted values\n",
        "output_file = open(\"evaluation_results.txt\", \"w\", encoding=\"utf-8\")\n",
        "\n",
        "with torch.no_grad():\n",
        "    for batch in test_loader:\n",
        "        inputs = batch[\"input_ids\"].to(device)\n",
        "        attention_mask = batch[\"attention_mask\"].to(device)\n",
        "        labels = batch[\"labels\"].to(device)\n",
        "\n",
        "        outputs = model.generate(inputs, attention_mask=attention_mask)\n",
        "        predicted_values = [tokenizer.decode(output, skip_special_tokens=True) for output in outputs]\n",
        "\n",
        "        actual_values = [tokenizer.decode(label, skip_special_tokens=True) for label in labels]\n",
        "\n",
        "        for predicted, actual in zip(predicted_values, actual_values):\n",
        "            # Calculate metrics\n",
        "            if exact_match(predicted, actual):\n",
        "                exact_match_count += 1\n",
        "\n",
        "            f1, precision, recall = f1_precision_recall(predicted.split(), actual.split())\n",
        "            total_f1 += f1\n",
        "            total_precision += precision\n",
        "            total_recall += recall\n",
        "\n",
        "            output_file.write(f\"Actual: {actual}\\nPredicted: {predicted}\\n\")\n",
        "            output_file.write(f\"F1 Score: {f1:.4f} | Precision: {precision:.4f} | Recall: {recall:.4f}\\n\\n\")\n",
        "\n",
        "num_samples = len(test_loader.dataset)\n",
        "average_f1 = total_f1 / num_samples\n",
        "average_precision = total_precision / num_samples\n",
        "average_recall = total_recall / num_samples\n",
        "accuracy = exact_match_count / num_samples\n",
        "\n",
        "# Write overall metrics to the file\n",
        "output_file.write(\"Evaluation Metrics:\\n\")\n",
        "output_file.write(f\"Exact Match Accuracy: {accuracy:.4f}\\n\")\n",
        "output_file.write(f\"Average F1 Score: {average_f1:.4f}\\n\")\n",
        "output_file.write(f\"Average Precision: {average_precision:.4f}\\n\")\n",
        "output_file.write(f\"Average Recall: {average_recall:.4f}\\n\")\n",
        "\n",
        "output_file.close()\n",
        "\n",
        "print(\"Evaluation results saved to 'evaluation_results.txt'\")\n"
      ],
      "metadata": {
        "colab": {
          "base_uri": "https://localhost:8080/"
        },
        "id": "TYix395JeyuD",
        "outputId": "fa7a4fee-6530-4828-d7a8-0c5eddfdb529"
      },
      "execution_count": 32,
      "outputs": [
        {
          "output_type": "stream",
          "name": "stderr",
          "text": [
            "/usr/local/lib/python3.10/dist-packages/transformers/generation/utils.py:1369: UserWarning: Using `max_length`'s default (20) to control the generation length. This behaviour is deprecated and will be removed from the config in v5 of Transformers -- we recommend using `max_new_tokens` to control the maximum length of the generation.\n",
            "  warnings.warn(\n"
          ]
        },
        {
          "output_type": "stream",
          "name": "stdout",
          "text": [
            "Exact Match Accuracy: 0.7477106227106227\n",
            "Average F1 Score: 0.7668458240225393\n",
            "Average Precision: 0.7659133518128803\n",
            "Average Recall: 0.7688644681525703\n"
          ]
        }
      ]
    },
    {
      "cell_type": "code",
      "source": [
        "from google.colab import drive\n",
        "drive.mount('/content/drive')"
      ],
      "metadata": {
        "id": "g_VPulQZ9Ktq"
      },
      "execution_count": null,
      "outputs": []
    },
    {
      "cell_type": "code",
      "source": [
        "model.eval()\n",
        "with torch.no_grad():\n",
        "    test_loss = 0.0\n",
        "    for batch in test_loader:\n",
        "        inputs = batch[\"input_ids\"].to(device)\n",
        "        attention_mask = batch[\"attention_mask\"].to(device)\n",
        "        labels = batch[\"labels\"].to(device)\n",
        "\n",
        "        outputs = model(inputs, attention_mask=attention_mask, labels=labels)\n",
        "        loss = outputs.loss\n",
        "        test_loss += loss.item()\n",
        "\n",
        "    avg_test_loss = test_loss / len(test_loader)\n",
        "    print(f\"Test Loss: {avg_test_loss:.4f}\")"
      ],
      "metadata": {
        "colab": {
          "base_uri": "https://localhost:8080/"
        },
        "id": "GFhUf2Ybjsgy",
        "outputId": "ca0919d8-e431-45db-a044-89131c0495aa"
      },
      "execution_count": 33,
      "outputs": [
        {
          "output_type": "stream",
          "name": "stdout",
          "text": [
            "Test Loss: 0.0101\n"
          ]
        }
      ]
    },
    {
      "cell_type": "code",
      "source": [
        "predictions = []\n",
        "model.eval()\n",
        "with torch.no_grad():\n",
        "    for batch in test_loader:\n",
        "        inputs = batch[\"input_ids\"].to(device)\n",
        "        attention_mask = batch[\"attention_mask\"].to(device)\n",
        "\n",
        "        output = model.generate(inputs, attention_mask=attention_mask, max_length=50)  # Adjust max_length as needed\n",
        "\n",
        "        decoded_output = tokenizer.decode(output[0], skip_special_tokens=True)\n",
        "        predictions.append(decoded_output)\n",
        "\n",
        "# Print some example predictions\n",
        "for i in range(5):\n",
        "    print(f\"Example {i+1} - Predicted Value: {predictions[i]}\")"
      ],
      "metadata": {
        "colab": {
          "base_uri": "https://localhost:8080/"
        },
        "id": "UR1ayTScjvDH",
        "outputId": "dc4a2542-d599-4de0-f930-94b645918e85"
      },
      "execution_count": 34,
      "outputs": [
        {
          "output_type": "stream",
          "name": "stdout",
          "text": [
            "Example 1 - Predicted Value: NULL\n",
            "Example 2 - Predicted Value: Copozz Fashion\n",
            "Example 3 - Predicted Value: Carcassonne Board game\n",
            "Example 4 - Predicted Value: ONITSUKA TIGER\n",
            "Example 5 - Predicted Value: Dance Shoes\n"
          ]
        }
      ]
    },
    {
      "cell_type": "code",
      "source": [
        "predictions = []\n",
        "model.eval()\n",
        "with torch.no_grad():\n",
        "    for batch, data in zip(test_loader, test_set):  # Zip test_loader and test_set to get original data\n",
        "        inputs = batch[\"input_ids\"].to(device)\n",
        "        attention_mask = batch[\"attention_mask\"].to(device)\n",
        "\n",
        "        output = model.generate(inputs, attention_mask=attention_mask, max_length=50)  # Adjust max_length as needed\n",
        "\n",
        "        decoded_output = tokenizer.decode(output[0], skip_special_tokens=True)\n",
        "        product_title, attribute, _ = data  # Extract product title and attribute\n",
        "        predictions.append((product_title, attribute, decoded_output))\n",
        "\n",
        "# Print predictions with corresponding product title and attribute\n",
        "for i, (product_title, attribute, prediction) in enumerate(predictions[:5]):\n",
        "    print(f\"Example {i+1} - Product Title: {product_title}, Attribute: {attribute}, Predicted Value: {prediction}\")\n"
      ],
      "metadata": {
        "colab": {
          "base_uri": "https://localhost:8080/"
        },
        "id": "aauilsrnrE37",
        "outputId": "c82f7c78-3477-49e2-d8f3-47d449e69d3f"
      },
      "execution_count": 35,
      "outputs": [
        {
          "output_type": "stream",
          "name": "stdout",
          "text": [
            "Example 1 - Product Title: 2017 YD 1 Pair New Thicker Anti-collision knee Compression Sport Safety Volleyball Sock Sporting Goods Sports Gaiters Knee Pads, Attribute: Knee Pads to Market , Predicted Value: NULL\n",
            "Example 2 - Product Title: Original Vans Skateboarding Shoes low Classic Lover&#39;s men&#39;s&amp;women&#39;s Canvas Shoes Authentic Sneakers Outdoor Sports Designer, Attribute: Upper Material, Predicted Value: Copozz Fashion\n",
            "Example 3 - Product Title: Large Camping Tent 3-4 Person Double Layer Waterproof Rainproof Hiking Equipment Sun Block Beach Tents Big Family Hexagon Tent, Attribute: is_customized, Predicted Value: Carcassonne Board game\n",
            "Example 4 - Product Title: Ediwallen Lundqvist Vintage Jersey Team Sweden Henrik Lundqvist 30 Ice Hockey Jerseys Cheap Stitched Yellow High Quality, Attribute: Fabric Type, Predicted Value: ONITSUKA TIGER\n",
            "Example 5 - Product Title: POLAPOFEI 1.8M Spinning Fishing Rod Carbon Fishing Pole Baitcasting Rods Fish Tackle Peche Feeder Daiwa okuma abu garcia E267, Attribute: Material, Predicted Value: Dance Shoes\n"
          ]
        }
      ]
    },
    {
      "cell_type": "code",
      "source": [
        "import torch\n",
        "\n",
        "def generate_prediction(model, tokenizer, title, attribute):\n",
        "    \"\"\"Generates a prediction for the given title and attribute.\n",
        "\n",
        "    Args:\n",
        "        model: The fine-tuned T5 model.\n",
        "        tokenizer: The T5 tokenizer.\n",
        "        title: The product title.\n",
        "        attribute: The product attribute.\n",
        "\n",
        "    Returns:\n",
        "        The predicted attribute value.\n",
        "    \"\"\"\n",
        "\n",
        "    input_text = f\"Context: {title} Attribute: {attribute} Answer:\"\n",
        "\n",
        "    inputs = tokenizer(input_text, return_tensors=\"pt\", padding=\"max_length\", truncation=True, max_length=128)\n",
        "\n",
        "    # Make sure inputs are on the same device as the model\n",
        "    device = model.device\n",
        "    inputs = {key: tensor.to(device) for key, tensor in inputs.items()}\n",
        "\n",
        "    outputs = model.generate(inputs[\"input_ids\"], attention_mask=inputs[\"attention_mask\"])\n",
        "    predicted_value = tokenizer.decode(outputs[0], skip_special_tokens=True)\n",
        "\n",
        "    return predicted_value\n"
      ],
      "metadata": {
        "id": "jyFUJBCz-uoc"
      },
      "execution_count": 36,
      "outputs": []
    },
    {
      "cell_type": "code",
      "source": [
        "generate_prediction(model, tokenizer, \"POC Outdoor Cycling Glasses Bike Sport Sunglasses Men Women Mountain Road Bicycle Cycle Eyewear\", \"Gender\")\n"
      ],
      "metadata": {
        "colab": {
          "base_uri": "https://localhost:8080/",
          "height": 36
        },
        "id": "m3L-Xv33Q2Zo",
        "outputId": "d90632eb-4240-4b9c-9a99-9af30eb1b18a"
      },
      "execution_count": 37,
      "outputs": [
        {
          "output_type": "execute_result",
          "data": {
            "text/plain": [
              "'Men'"
            ],
            "application/vnd.google.colaboratory.intrinsic+json": {
              "type": "string"
            }
          },
          "metadata": {},
          "execution_count": 37
        }
      ]
    },
    {
      "cell_type": "code",
      "source": [
        "generate_prediction(model, tokenizer, \"Apple iPhone 13 Pro\", \"Color\")\n"
      ],
      "metadata": {
        "colab": {
          "base_uri": "https://localhost:8080/",
          "height": 36
        },
        "id": "ISMFaovbSu_I",
        "outputId": "fc341b42-f4f2-4c62-f085-d47b1a2e123d"
      },
      "execution_count": 38,
      "outputs": [
        {
          "output_type": "execute_result",
          "data": {
            "text/plain": [
              "'NULL'"
            ],
            "application/vnd.google.colaboratory.intrinsic+json": {
              "type": "string"
            }
          },
          "metadata": {},
          "execution_count": 38
        }
      ]
    },
    {
      "cell_type": "code",
      "source": [
        "import os\n",
        "\n",
        "folder_path = \"/content/fine_tuned_model\"\n",
        "file_list = os.listdir(folder_path)\n",
        "print(file_list)\n"
      ],
      "metadata": {
        "colab": {
          "base_uri": "https://localhost:8080/"
        },
        "id": "07pL4_0To-kd",
        "outputId": "aa14a08f-82c2-4fd4-927b-a72803d3566d"
      },
      "execution_count": 39,
      "outputs": [
        {
          "output_type": "stream",
          "name": "stdout",
          "text": [
            "['pytorch_model.bin', 'generation_config.json', 'config.json']\n"
          ]
        }
      ]
    },
    {
      "cell_type": "code",
      "source": [
        "\n",
        "\n",
        "model.eval()\n",
        "\n",
        "# Create an empty list to store generated texts\n",
        "generated_texts = []\n",
        "\n",
        "# Generate predictions\n",
        "with torch.no_grad():\n",
        "    for batch in test_loader:\n",
        "        inputs = batch[\"input_ids\"].to(device)\n",
        "        attention_mask = batch[\"attention_mask\"].to(device)\n",
        "\n",
        "        # Generate predictions\n",
        "        generated_ids = model.generate(inputs, attention_mask=attention_mask, max_length=50)\n",
        "\n",
        "        # Decode the generated output\n",
        "        batch_generated_texts = tokenizer.batch_decode(generated_ids, skip_special_tokens=True)\n",
        "\n",
        "        # Add the generated texts to the list\n",
        "        generated_texts.extend(batch_generated_texts)\n",
        "\n",
        "# Save generated texts to a file\n",
        "output_file_path = \"generated_predictions.txt\"\n",
        "with open(output_file_path, \"w\", encoding=\"utf-8\") as output_file:\n",
        "    for generated_text in generated_texts:\n",
        "        output_file.write(generated_text + \"\\n\")\n",
        "\n",
        "print(f\"Generated predictions saved to {output_file_path}\")\n"
      ],
      "metadata": {
        "colab": {
          "base_uri": "https://localhost:8080/"
        },
        "id": "T6ZNUUebpFi7",
        "outputId": "812a9789-5a71-4469-af66-24c23e36a5df"
      },
      "execution_count": 40,
      "outputs": [
        {
          "output_type": "stream",
          "name": "stdout",
          "text": [
            "Generated predictions saved to generated_predictions.txt\n"
          ]
        }
      ]
    },
    {
      "cell_type": "code",
      "source": [
        "model.eval()\n",
        "\n",
        "# Create an empty list to store actual and predicted values\n",
        "actual_predicted_values = []\n",
        "\n",
        "# Generate predictions\n",
        "with torch.no_grad():\n",
        "    for batch in test_loader:\n",
        "        inputs = batch[\"input_ids\"].to(device)\n",
        "        attention_mask = batch[\"attention_mask\"].to(device)\n",
        "        labels = batch[\"labels\"]\n",
        "\n",
        "        # Generate predictions\n",
        "        generated_ids = model.generate(inputs, attention_mask=attention_mask, max_length=50)\n",
        "\n",
        "        # Decode the generated output\n",
        "        batch_generated_texts = tokenizer.batch_decode(generated_ids, skip_special_tokens=True)\n",
        "\n",
        "        # Get the actual texts\n",
        "        batch_actual_texts = tokenizer.batch_decode(labels, skip_special_tokens=True)\n",
        "\n",
        "        # Combine actual and predicted texts\n",
        "        for actual_text, generated_text in zip(batch_actual_texts, batch_generated_texts):\n",
        "            actual_predicted_values.append((actual_text, generated_text))\n",
        "\n",
        "# Save actual and predicted values to a file\n",
        "output_file_path = \"actual_predicted_values.txt\"\n",
        "with open(output_file_path, \"w\", encoding=\"utf-8\") as output_file:\n",
        "    for actual_text, generated_text in actual_predicted_values:\n",
        "        output_file.write(f\"Actual: {actual_text}\\nPredicted: {generated_text}\\n\\n\")\n",
        "\n",
        "print(f\"Actual and Predicted values saved to {output_file_path}\")\n"
      ],
      "metadata": {
        "colab": {
          "base_uri": "https://localhost:8080/"
        },
        "id": "_EmnzZ71660Z",
        "outputId": "032c13ee-0aa8-4a23-de9a-2d06fe477dc8"
      },
      "execution_count": 41,
      "outputs": [
        {
          "output_type": "stream",
          "name": "stdout",
          "text": [
            "Actual and Predicted values saved to actual_predicted_values.txt\n"
          ]
        }
      ]
    }
  ],
  "metadata": {
    "accelerator": "GPU",
    "colab": {
      "provenance": [],
      "authorship_tag": "ABX9TyMGOsk1jiv4i+Pngi+sMlbV"
    },
    "kernelspec": {
      "display_name": "Python 3",
      "name": "python3"
    },
    "language_info": {
      "name": "python"
    },
    "widgets": {
      "application/vnd.jupyter.widget-state+json": {
        "2e84cbd4d1304927b2561ce70606d051": {
          "model_module": "@jupyter-widgets/controls",
          "model_name": "HBoxModel",
          "model_module_version": "1.5.0",
          "state": {
            "_dom_classes": [],
            "_model_module": "@jupyter-widgets/controls",
            "_model_module_version": "1.5.0",
            "_model_name": "HBoxModel",
            "_view_count": null,
            "_view_module": "@jupyter-widgets/controls",
            "_view_module_version": "1.5.0",
            "_view_name": "HBoxView",
            "box_style": "",
            "children": [
              "IPY_MODEL_19a91b035eb343d7ac72bcbe81f558bc",
              "IPY_MODEL_51367a8aef36417a85fac995da93e025",
              "IPY_MODEL_1d9a1f7b965848f5bd8f748b101f6060"
            ],
            "layout": "IPY_MODEL_66cde9ebc54f46418c8d778ccfd0ade8"
          }
        },
        "19a91b035eb343d7ac72bcbe81f558bc": {
          "model_module": "@jupyter-widgets/controls",
          "model_name": "HTMLModel",
          "model_module_version": "1.5.0",
          "state": {
            "_dom_classes": [],
            "_model_module": "@jupyter-widgets/controls",
            "_model_module_version": "1.5.0",
            "_model_name": "HTMLModel",
            "_view_count": null,
            "_view_module": "@jupyter-widgets/controls",
            "_view_module_version": "1.5.0",
            "_view_name": "HTMLView",
            "description": "",
            "description_tooltip": null,
            "layout": "IPY_MODEL_ea61640d5c0e4589bee83fa1a0b8b968",
            "placeholder": "​",
            "style": "IPY_MODEL_8bd1fb746cf8459aaed4e639cf0a0c29",
            "value": "Downloading (…)lve/main/config.json: 100%"
          }
        },
        "51367a8aef36417a85fac995da93e025": {
          "model_module": "@jupyter-widgets/controls",
          "model_name": "FloatProgressModel",
          "model_module_version": "1.5.0",
          "state": {
            "_dom_classes": [],
            "_model_module": "@jupyter-widgets/controls",
            "_model_module_version": "1.5.0",
            "_model_name": "FloatProgressModel",
            "_view_count": null,
            "_view_module": "@jupyter-widgets/controls",
            "_view_module_version": "1.5.0",
            "_view_name": "ProgressView",
            "bar_style": "success",
            "description": "",
            "description_tooltip": null,
            "layout": "IPY_MODEL_144af27789a44ec9822aaaa39e6678f2",
            "max": 1206,
            "min": 0,
            "orientation": "horizontal",
            "style": "IPY_MODEL_26b88736bcd24d24a8fd1421f6fb61ed",
            "value": 1206
          }
        },
        "1d9a1f7b965848f5bd8f748b101f6060": {
          "model_module": "@jupyter-widgets/controls",
          "model_name": "HTMLModel",
          "model_module_version": "1.5.0",
          "state": {
            "_dom_classes": [],
            "_model_module": "@jupyter-widgets/controls",
            "_model_module_version": "1.5.0",
            "_model_name": "HTMLModel",
            "_view_count": null,
            "_view_module": "@jupyter-widgets/controls",
            "_view_module_version": "1.5.0",
            "_view_name": "HTMLView",
            "description": "",
            "description_tooltip": null,
            "layout": "IPY_MODEL_8ace24a7c17348029b6abcfa2555ba8e",
            "placeholder": "​",
            "style": "IPY_MODEL_e27173b5885f44a2b1bf95069bd08abc",
            "value": " 1.21k/1.21k [00:00&lt;00:00, 78.2kB/s]"
          }
        },
        "66cde9ebc54f46418c8d778ccfd0ade8": {
          "model_module": "@jupyter-widgets/base",
          "model_name": "LayoutModel",
          "model_module_version": "1.2.0",
          "state": {
            "_model_module": "@jupyter-widgets/base",
            "_model_module_version": "1.2.0",
            "_model_name": "LayoutModel",
            "_view_count": null,
            "_view_module": "@jupyter-widgets/base",
            "_view_module_version": "1.2.0",
            "_view_name": "LayoutView",
            "align_content": null,
            "align_items": null,
            "align_self": null,
            "border": null,
            "bottom": null,
            "display": null,
            "flex": null,
            "flex_flow": null,
            "grid_area": null,
            "grid_auto_columns": null,
            "grid_auto_flow": null,
            "grid_auto_rows": null,
            "grid_column": null,
            "grid_gap": null,
            "grid_row": null,
            "grid_template_areas": null,
            "grid_template_columns": null,
            "grid_template_rows": null,
            "height": null,
            "justify_content": null,
            "justify_items": null,
            "left": null,
            "margin": null,
            "max_height": null,
            "max_width": null,
            "min_height": null,
            "min_width": null,
            "object_fit": null,
            "object_position": null,
            "order": null,
            "overflow": null,
            "overflow_x": null,
            "overflow_y": null,
            "padding": null,
            "right": null,
            "top": null,
            "visibility": null,
            "width": null
          }
        },
        "ea61640d5c0e4589bee83fa1a0b8b968": {
          "model_module": "@jupyter-widgets/base",
          "model_name": "LayoutModel",
          "model_module_version": "1.2.0",
          "state": {
            "_model_module": "@jupyter-widgets/base",
            "_model_module_version": "1.2.0",
            "_model_name": "LayoutModel",
            "_view_count": null,
            "_view_module": "@jupyter-widgets/base",
            "_view_module_version": "1.2.0",
            "_view_name": "LayoutView",
            "align_content": null,
            "align_items": null,
            "align_self": null,
            "border": null,
            "bottom": null,
            "display": null,
            "flex": null,
            "flex_flow": null,
            "grid_area": null,
            "grid_auto_columns": null,
            "grid_auto_flow": null,
            "grid_auto_rows": null,
            "grid_column": null,
            "grid_gap": null,
            "grid_row": null,
            "grid_template_areas": null,
            "grid_template_columns": null,
            "grid_template_rows": null,
            "height": null,
            "justify_content": null,
            "justify_items": null,
            "left": null,
            "margin": null,
            "max_height": null,
            "max_width": null,
            "min_height": null,
            "min_width": null,
            "object_fit": null,
            "object_position": null,
            "order": null,
            "overflow": null,
            "overflow_x": null,
            "overflow_y": null,
            "padding": null,
            "right": null,
            "top": null,
            "visibility": null,
            "width": null
          }
        },
        "8bd1fb746cf8459aaed4e639cf0a0c29": {
          "model_module": "@jupyter-widgets/controls",
          "model_name": "DescriptionStyleModel",
          "model_module_version": "1.5.0",
          "state": {
            "_model_module": "@jupyter-widgets/controls",
            "_model_module_version": "1.5.0",
            "_model_name": "DescriptionStyleModel",
            "_view_count": null,
            "_view_module": "@jupyter-widgets/base",
            "_view_module_version": "1.2.0",
            "_view_name": "StyleView",
            "description_width": ""
          }
        },
        "144af27789a44ec9822aaaa39e6678f2": {
          "model_module": "@jupyter-widgets/base",
          "model_name": "LayoutModel",
          "model_module_version": "1.2.0",
          "state": {
            "_model_module": "@jupyter-widgets/base",
            "_model_module_version": "1.2.0",
            "_model_name": "LayoutModel",
            "_view_count": null,
            "_view_module": "@jupyter-widgets/base",
            "_view_module_version": "1.2.0",
            "_view_name": "LayoutView",
            "align_content": null,
            "align_items": null,
            "align_self": null,
            "border": null,
            "bottom": null,
            "display": null,
            "flex": null,
            "flex_flow": null,
            "grid_area": null,
            "grid_auto_columns": null,
            "grid_auto_flow": null,
            "grid_auto_rows": null,
            "grid_column": null,
            "grid_gap": null,
            "grid_row": null,
            "grid_template_areas": null,
            "grid_template_columns": null,
            "grid_template_rows": null,
            "height": null,
            "justify_content": null,
            "justify_items": null,
            "left": null,
            "margin": null,
            "max_height": null,
            "max_width": null,
            "min_height": null,
            "min_width": null,
            "object_fit": null,
            "object_position": null,
            "order": null,
            "overflow": null,
            "overflow_x": null,
            "overflow_y": null,
            "padding": null,
            "right": null,
            "top": null,
            "visibility": null,
            "width": null
          }
        },
        "26b88736bcd24d24a8fd1421f6fb61ed": {
          "model_module": "@jupyter-widgets/controls",
          "model_name": "ProgressStyleModel",
          "model_module_version": "1.5.0",
          "state": {
            "_model_module": "@jupyter-widgets/controls",
            "_model_module_version": "1.5.0",
            "_model_name": "ProgressStyleModel",
            "_view_count": null,
            "_view_module": "@jupyter-widgets/base",
            "_view_module_version": "1.2.0",
            "_view_name": "StyleView",
            "bar_color": null,
            "description_width": ""
          }
        },
        "8ace24a7c17348029b6abcfa2555ba8e": {
          "model_module": "@jupyter-widgets/base",
          "model_name": "LayoutModel",
          "model_module_version": "1.2.0",
          "state": {
            "_model_module": "@jupyter-widgets/base",
            "_model_module_version": "1.2.0",
            "_model_name": "LayoutModel",
            "_view_count": null,
            "_view_module": "@jupyter-widgets/base",
            "_view_module_version": "1.2.0",
            "_view_name": "LayoutView",
            "align_content": null,
            "align_items": null,
            "align_self": null,
            "border": null,
            "bottom": null,
            "display": null,
            "flex": null,
            "flex_flow": null,
            "grid_area": null,
            "grid_auto_columns": null,
            "grid_auto_flow": null,
            "grid_auto_rows": null,
            "grid_column": null,
            "grid_gap": null,
            "grid_row": null,
            "grid_template_areas": null,
            "grid_template_columns": null,
            "grid_template_rows": null,
            "height": null,
            "justify_content": null,
            "justify_items": null,
            "left": null,
            "margin": null,
            "max_height": null,
            "max_width": null,
            "min_height": null,
            "min_width": null,
            "object_fit": null,
            "object_position": null,
            "order": null,
            "overflow": null,
            "overflow_x": null,
            "overflow_y": null,
            "padding": null,
            "right": null,
            "top": null,
            "visibility": null,
            "width": null
          }
        },
        "e27173b5885f44a2b1bf95069bd08abc": {
          "model_module": "@jupyter-widgets/controls",
          "model_name": "DescriptionStyleModel",
          "model_module_version": "1.5.0",
          "state": {
            "_model_module": "@jupyter-widgets/controls",
            "_model_module_version": "1.5.0",
            "_model_name": "DescriptionStyleModel",
            "_view_count": null,
            "_view_module": "@jupyter-widgets/base",
            "_view_module_version": "1.2.0",
            "_view_name": "StyleView",
            "description_width": ""
          }
        },
        "4ca4d75af3074f02b6a2bbbb0cc2b7fc": {
          "model_module": "@jupyter-widgets/controls",
          "model_name": "HBoxModel",
          "model_module_version": "1.5.0",
          "state": {
            "_dom_classes": [],
            "_model_module": "@jupyter-widgets/controls",
            "_model_module_version": "1.5.0",
            "_model_name": "HBoxModel",
            "_view_count": null,
            "_view_module": "@jupyter-widgets/controls",
            "_view_module_version": "1.5.0",
            "_view_name": "HBoxView",
            "box_style": "",
            "children": [
              "IPY_MODEL_2b835b29ff7845668897c76fe2a8347f",
              "IPY_MODEL_37bf9216b2224547ba1e8a1d0ccf8139",
              "IPY_MODEL_362c881f61a94ed1ace7590199f8b68b"
            ],
            "layout": "IPY_MODEL_87412a1f0919418f8672eb823c2cfb91"
          }
        },
        "2b835b29ff7845668897c76fe2a8347f": {
          "model_module": "@jupyter-widgets/controls",
          "model_name": "HTMLModel",
          "model_module_version": "1.5.0",
          "state": {
            "_dom_classes": [],
            "_model_module": "@jupyter-widgets/controls",
            "_model_module_version": "1.5.0",
            "_model_name": "HTMLModel",
            "_view_count": null,
            "_view_module": "@jupyter-widgets/controls",
            "_view_module_version": "1.5.0",
            "_view_name": "HTMLView",
            "description": "",
            "description_tooltip": null,
            "layout": "IPY_MODEL_4a099617aa3f4fc4b78e32f0b2802b79",
            "placeholder": "​",
            "style": "IPY_MODEL_ba02e9b2646f4b4dbc2f092a29fea610",
            "value": "Downloading model.safetensors: 100%"
          }
        },
        "37bf9216b2224547ba1e8a1d0ccf8139": {
          "model_module": "@jupyter-widgets/controls",
          "model_name": "FloatProgressModel",
          "model_module_version": "1.5.0",
          "state": {
            "_dom_classes": [],
            "_model_module": "@jupyter-widgets/controls",
            "_model_module_version": "1.5.0",
            "_model_name": "FloatProgressModel",
            "_view_count": null,
            "_view_module": "@jupyter-widgets/controls",
            "_view_module_version": "1.5.0",
            "_view_name": "ProgressView",
            "bar_style": "success",
            "description": "",
            "description_tooltip": null,
            "layout": "IPY_MODEL_9e9acb4eb4834d8b9e47f9cd3b20a3d0",
            "max": 242043056,
            "min": 0,
            "orientation": "horizontal",
            "style": "IPY_MODEL_635552d427f34f16ac0c2045e0b866dc",
            "value": 242043056
          }
        },
        "362c881f61a94ed1ace7590199f8b68b": {
          "model_module": "@jupyter-widgets/controls",
          "model_name": "HTMLModel",
          "model_module_version": "1.5.0",
          "state": {
            "_dom_classes": [],
            "_model_module": "@jupyter-widgets/controls",
            "_model_module_version": "1.5.0",
            "_model_name": "HTMLModel",
            "_view_count": null,
            "_view_module": "@jupyter-widgets/controls",
            "_view_module_version": "1.5.0",
            "_view_name": "HTMLView",
            "description": "",
            "description_tooltip": null,
            "layout": "IPY_MODEL_bbc4300345a94144b23322f3453cd1e4",
            "placeholder": "​",
            "style": "IPY_MODEL_9189c9c469af484caba7b2a0c60f8428",
            "value": " 242M/242M [00:00&lt;00:00, 269MB/s]"
          }
        },
        "87412a1f0919418f8672eb823c2cfb91": {
          "model_module": "@jupyter-widgets/base",
          "model_name": "LayoutModel",
          "model_module_version": "1.2.0",
          "state": {
            "_model_module": "@jupyter-widgets/base",
            "_model_module_version": "1.2.0",
            "_model_name": "LayoutModel",
            "_view_count": null,
            "_view_module": "@jupyter-widgets/base",
            "_view_module_version": "1.2.0",
            "_view_name": "LayoutView",
            "align_content": null,
            "align_items": null,
            "align_self": null,
            "border": null,
            "bottom": null,
            "display": null,
            "flex": null,
            "flex_flow": null,
            "grid_area": null,
            "grid_auto_columns": null,
            "grid_auto_flow": null,
            "grid_auto_rows": null,
            "grid_column": null,
            "grid_gap": null,
            "grid_row": null,
            "grid_template_areas": null,
            "grid_template_columns": null,
            "grid_template_rows": null,
            "height": null,
            "justify_content": null,
            "justify_items": null,
            "left": null,
            "margin": null,
            "max_height": null,
            "max_width": null,
            "min_height": null,
            "min_width": null,
            "object_fit": null,
            "object_position": null,
            "order": null,
            "overflow": null,
            "overflow_x": null,
            "overflow_y": null,
            "padding": null,
            "right": null,
            "top": null,
            "visibility": null,
            "width": null
          }
        },
        "4a099617aa3f4fc4b78e32f0b2802b79": {
          "model_module": "@jupyter-widgets/base",
          "model_name": "LayoutModel",
          "model_module_version": "1.2.0",
          "state": {
            "_model_module": "@jupyter-widgets/base",
            "_model_module_version": "1.2.0",
            "_model_name": "LayoutModel",
            "_view_count": null,
            "_view_module": "@jupyter-widgets/base",
            "_view_module_version": "1.2.0",
            "_view_name": "LayoutView",
            "align_content": null,
            "align_items": null,
            "align_self": null,
            "border": null,
            "bottom": null,
            "display": null,
            "flex": null,
            "flex_flow": null,
            "grid_area": null,
            "grid_auto_columns": null,
            "grid_auto_flow": null,
            "grid_auto_rows": null,
            "grid_column": null,
            "grid_gap": null,
            "grid_row": null,
            "grid_template_areas": null,
            "grid_template_columns": null,
            "grid_template_rows": null,
            "height": null,
            "justify_content": null,
            "justify_items": null,
            "left": null,
            "margin": null,
            "max_height": null,
            "max_width": null,
            "min_height": null,
            "min_width": null,
            "object_fit": null,
            "object_position": null,
            "order": null,
            "overflow": null,
            "overflow_x": null,
            "overflow_y": null,
            "padding": null,
            "right": null,
            "top": null,
            "visibility": null,
            "width": null
          }
        },
        "ba02e9b2646f4b4dbc2f092a29fea610": {
          "model_module": "@jupyter-widgets/controls",
          "model_name": "DescriptionStyleModel",
          "model_module_version": "1.5.0",
          "state": {
            "_model_module": "@jupyter-widgets/controls",
            "_model_module_version": "1.5.0",
            "_model_name": "DescriptionStyleModel",
            "_view_count": null,
            "_view_module": "@jupyter-widgets/base",
            "_view_module_version": "1.2.0",
            "_view_name": "StyleView",
            "description_width": ""
          }
        },
        "9e9acb4eb4834d8b9e47f9cd3b20a3d0": {
          "model_module": "@jupyter-widgets/base",
          "model_name": "LayoutModel",
          "model_module_version": "1.2.0",
          "state": {
            "_model_module": "@jupyter-widgets/base",
            "_model_module_version": "1.2.0",
            "_model_name": "LayoutModel",
            "_view_count": null,
            "_view_module": "@jupyter-widgets/base",
            "_view_module_version": "1.2.0",
            "_view_name": "LayoutView",
            "align_content": null,
            "align_items": null,
            "align_self": null,
            "border": null,
            "bottom": null,
            "display": null,
            "flex": null,
            "flex_flow": null,
            "grid_area": null,
            "grid_auto_columns": null,
            "grid_auto_flow": null,
            "grid_auto_rows": null,
            "grid_column": null,
            "grid_gap": null,
            "grid_row": null,
            "grid_template_areas": null,
            "grid_template_columns": null,
            "grid_template_rows": null,
            "height": null,
            "justify_content": null,
            "justify_items": null,
            "left": null,
            "margin": null,
            "max_height": null,
            "max_width": null,
            "min_height": null,
            "min_width": null,
            "object_fit": null,
            "object_position": null,
            "order": null,
            "overflow": null,
            "overflow_x": null,
            "overflow_y": null,
            "padding": null,
            "right": null,
            "top": null,
            "visibility": null,
            "width": null
          }
        },
        "635552d427f34f16ac0c2045e0b866dc": {
          "model_module": "@jupyter-widgets/controls",
          "model_name": "ProgressStyleModel",
          "model_module_version": "1.5.0",
          "state": {
            "_model_module": "@jupyter-widgets/controls",
            "_model_module_version": "1.5.0",
            "_model_name": "ProgressStyleModel",
            "_view_count": null,
            "_view_module": "@jupyter-widgets/base",
            "_view_module_version": "1.2.0",
            "_view_name": "StyleView",
            "bar_color": null,
            "description_width": ""
          }
        },
        "bbc4300345a94144b23322f3453cd1e4": {
          "model_module": "@jupyter-widgets/base",
          "model_name": "LayoutModel",
          "model_module_version": "1.2.0",
          "state": {
            "_model_module": "@jupyter-widgets/base",
            "_model_module_version": "1.2.0",
            "_model_name": "LayoutModel",
            "_view_count": null,
            "_view_module": "@jupyter-widgets/base",
            "_view_module_version": "1.2.0",
            "_view_name": "LayoutView",
            "align_content": null,
            "align_items": null,
            "align_self": null,
            "border": null,
            "bottom": null,
            "display": null,
            "flex": null,
            "flex_flow": null,
            "grid_area": null,
            "grid_auto_columns": null,
            "grid_auto_flow": null,
            "grid_auto_rows": null,
            "grid_column": null,
            "grid_gap": null,
            "grid_row": null,
            "grid_template_areas": null,
            "grid_template_columns": null,
            "grid_template_rows": null,
            "height": null,
            "justify_content": null,
            "justify_items": null,
            "left": null,
            "margin": null,
            "max_height": null,
            "max_width": null,
            "min_height": null,
            "min_width": null,
            "object_fit": null,
            "object_position": null,
            "order": null,
            "overflow": null,
            "overflow_x": null,
            "overflow_y": null,
            "padding": null,
            "right": null,
            "top": null,
            "visibility": null,
            "width": null
          }
        },
        "9189c9c469af484caba7b2a0c60f8428": {
          "model_module": "@jupyter-widgets/controls",
          "model_name": "DescriptionStyleModel",
          "model_module_version": "1.5.0",
          "state": {
            "_model_module": "@jupyter-widgets/controls",
            "_model_module_version": "1.5.0",
            "_model_name": "DescriptionStyleModel",
            "_view_count": null,
            "_view_module": "@jupyter-widgets/base",
            "_view_module_version": "1.2.0",
            "_view_name": "StyleView",
            "description_width": ""
          }
        },
        "29cf207063204584b6166aced2c31790": {
          "model_module": "@jupyter-widgets/controls",
          "model_name": "HBoxModel",
          "model_module_version": "1.5.0",
          "state": {
            "_dom_classes": [],
            "_model_module": "@jupyter-widgets/controls",
            "_model_module_version": "1.5.0",
            "_model_name": "HBoxModel",
            "_view_count": null,
            "_view_module": "@jupyter-widgets/controls",
            "_view_module_version": "1.5.0",
            "_view_name": "HBoxView",
            "box_style": "",
            "children": [
              "IPY_MODEL_d9a204d60d8f452f97774eca0cf97508",
              "IPY_MODEL_3e228bf95acf4cfe99587d7a6f935e5a",
              "IPY_MODEL_607e96581c7f46d2969c3486f5bfd04c"
            ],
            "layout": "IPY_MODEL_9c234953010747e1af9d829d4e4e9380"
          }
        },
        "d9a204d60d8f452f97774eca0cf97508": {
          "model_module": "@jupyter-widgets/controls",
          "model_name": "HTMLModel",
          "model_module_version": "1.5.0",
          "state": {
            "_dom_classes": [],
            "_model_module": "@jupyter-widgets/controls",
            "_model_module_version": "1.5.0",
            "_model_name": "HTMLModel",
            "_view_count": null,
            "_view_module": "@jupyter-widgets/controls",
            "_view_module_version": "1.5.0",
            "_view_name": "HTMLView",
            "description": "",
            "description_tooltip": null,
            "layout": "IPY_MODEL_d776f8ad159a451e93a6faed91b65bcf",
            "placeholder": "​",
            "style": "IPY_MODEL_71d6eb0125b947efae52ad461e6a7b18",
            "value": "Downloading (…)neration_config.json: 100%"
          }
        },
        "3e228bf95acf4cfe99587d7a6f935e5a": {
          "model_module": "@jupyter-widgets/controls",
          "model_name": "FloatProgressModel",
          "model_module_version": "1.5.0",
          "state": {
            "_dom_classes": [],
            "_model_module": "@jupyter-widgets/controls",
            "_model_module_version": "1.5.0",
            "_model_name": "FloatProgressModel",
            "_view_count": null,
            "_view_module": "@jupyter-widgets/controls",
            "_view_module_version": "1.5.0",
            "_view_name": "ProgressView",
            "bar_style": "success",
            "description": "",
            "description_tooltip": null,
            "layout": "IPY_MODEL_4f315a39874e4892a2c02e661c1d64d5",
            "max": 147,
            "min": 0,
            "orientation": "horizontal",
            "style": "IPY_MODEL_4133a24dba10483e83dce53d41e96377",
            "value": 147
          }
        },
        "607e96581c7f46d2969c3486f5bfd04c": {
          "model_module": "@jupyter-widgets/controls",
          "model_name": "HTMLModel",
          "model_module_version": "1.5.0",
          "state": {
            "_dom_classes": [],
            "_model_module": "@jupyter-widgets/controls",
            "_model_module_version": "1.5.0",
            "_model_name": "HTMLModel",
            "_view_count": null,
            "_view_module": "@jupyter-widgets/controls",
            "_view_module_version": "1.5.0",
            "_view_name": "HTMLView",
            "description": "",
            "description_tooltip": null,
            "layout": "IPY_MODEL_d7b1c20773884a88b848368fa541579b",
            "placeholder": "​",
            "style": "IPY_MODEL_e27c6ba3fdfb45508f932232ee94b3c2",
            "value": " 147/147 [00:00&lt;00:00, 8.26kB/s]"
          }
        },
        "9c234953010747e1af9d829d4e4e9380": {
          "model_module": "@jupyter-widgets/base",
          "model_name": "LayoutModel",
          "model_module_version": "1.2.0",
          "state": {
            "_model_module": "@jupyter-widgets/base",
            "_model_module_version": "1.2.0",
            "_model_name": "LayoutModel",
            "_view_count": null,
            "_view_module": "@jupyter-widgets/base",
            "_view_module_version": "1.2.0",
            "_view_name": "LayoutView",
            "align_content": null,
            "align_items": null,
            "align_self": null,
            "border": null,
            "bottom": null,
            "display": null,
            "flex": null,
            "flex_flow": null,
            "grid_area": null,
            "grid_auto_columns": null,
            "grid_auto_flow": null,
            "grid_auto_rows": null,
            "grid_column": null,
            "grid_gap": null,
            "grid_row": null,
            "grid_template_areas": null,
            "grid_template_columns": null,
            "grid_template_rows": null,
            "height": null,
            "justify_content": null,
            "justify_items": null,
            "left": null,
            "margin": null,
            "max_height": null,
            "max_width": null,
            "min_height": null,
            "min_width": null,
            "object_fit": null,
            "object_position": null,
            "order": null,
            "overflow": null,
            "overflow_x": null,
            "overflow_y": null,
            "padding": null,
            "right": null,
            "top": null,
            "visibility": null,
            "width": null
          }
        },
        "d776f8ad159a451e93a6faed91b65bcf": {
          "model_module": "@jupyter-widgets/base",
          "model_name": "LayoutModel",
          "model_module_version": "1.2.0",
          "state": {
            "_model_module": "@jupyter-widgets/base",
            "_model_module_version": "1.2.0",
            "_model_name": "LayoutModel",
            "_view_count": null,
            "_view_module": "@jupyter-widgets/base",
            "_view_module_version": "1.2.0",
            "_view_name": "LayoutView",
            "align_content": null,
            "align_items": null,
            "align_self": null,
            "border": null,
            "bottom": null,
            "display": null,
            "flex": null,
            "flex_flow": null,
            "grid_area": null,
            "grid_auto_columns": null,
            "grid_auto_flow": null,
            "grid_auto_rows": null,
            "grid_column": null,
            "grid_gap": null,
            "grid_row": null,
            "grid_template_areas": null,
            "grid_template_columns": null,
            "grid_template_rows": null,
            "height": null,
            "justify_content": null,
            "justify_items": null,
            "left": null,
            "margin": null,
            "max_height": null,
            "max_width": null,
            "min_height": null,
            "min_width": null,
            "object_fit": null,
            "object_position": null,
            "order": null,
            "overflow": null,
            "overflow_x": null,
            "overflow_y": null,
            "padding": null,
            "right": null,
            "top": null,
            "visibility": null,
            "width": null
          }
        },
        "71d6eb0125b947efae52ad461e6a7b18": {
          "model_module": "@jupyter-widgets/controls",
          "model_name": "DescriptionStyleModel",
          "model_module_version": "1.5.0",
          "state": {
            "_model_module": "@jupyter-widgets/controls",
            "_model_module_version": "1.5.0",
            "_model_name": "DescriptionStyleModel",
            "_view_count": null,
            "_view_module": "@jupyter-widgets/base",
            "_view_module_version": "1.2.0",
            "_view_name": "StyleView",
            "description_width": ""
          }
        },
        "4f315a39874e4892a2c02e661c1d64d5": {
          "model_module": "@jupyter-widgets/base",
          "model_name": "LayoutModel",
          "model_module_version": "1.2.0",
          "state": {
            "_model_module": "@jupyter-widgets/base",
            "_model_module_version": "1.2.0",
            "_model_name": "LayoutModel",
            "_view_count": null,
            "_view_module": "@jupyter-widgets/base",
            "_view_module_version": "1.2.0",
            "_view_name": "LayoutView",
            "align_content": null,
            "align_items": null,
            "align_self": null,
            "border": null,
            "bottom": null,
            "display": null,
            "flex": null,
            "flex_flow": null,
            "grid_area": null,
            "grid_auto_columns": null,
            "grid_auto_flow": null,
            "grid_auto_rows": null,
            "grid_column": null,
            "grid_gap": null,
            "grid_row": null,
            "grid_template_areas": null,
            "grid_template_columns": null,
            "grid_template_rows": null,
            "height": null,
            "justify_content": null,
            "justify_items": null,
            "left": null,
            "margin": null,
            "max_height": null,
            "max_width": null,
            "min_height": null,
            "min_width": null,
            "object_fit": null,
            "object_position": null,
            "order": null,
            "overflow": null,
            "overflow_x": null,
            "overflow_y": null,
            "padding": null,
            "right": null,
            "top": null,
            "visibility": null,
            "width": null
          }
        },
        "4133a24dba10483e83dce53d41e96377": {
          "model_module": "@jupyter-widgets/controls",
          "model_name": "ProgressStyleModel",
          "model_module_version": "1.5.0",
          "state": {
            "_model_module": "@jupyter-widgets/controls",
            "_model_module_version": "1.5.0",
            "_model_name": "ProgressStyleModel",
            "_view_count": null,
            "_view_module": "@jupyter-widgets/base",
            "_view_module_version": "1.2.0",
            "_view_name": "StyleView",
            "bar_color": null,
            "description_width": ""
          }
        },
        "d7b1c20773884a88b848368fa541579b": {
          "model_module": "@jupyter-widgets/base",
          "model_name": "LayoutModel",
          "model_module_version": "1.2.0",
          "state": {
            "_model_module": "@jupyter-widgets/base",
            "_model_module_version": "1.2.0",
            "_model_name": "LayoutModel",
            "_view_count": null,
            "_view_module": "@jupyter-widgets/base",
            "_view_module_version": "1.2.0",
            "_view_name": "LayoutView",
            "align_content": null,
            "align_items": null,
            "align_self": null,
            "border": null,
            "bottom": null,
            "display": null,
            "flex": null,
            "flex_flow": null,
            "grid_area": null,
            "grid_auto_columns": null,
            "grid_auto_flow": null,
            "grid_auto_rows": null,
            "grid_column": null,
            "grid_gap": null,
            "grid_row": null,
            "grid_template_areas": null,
            "grid_template_columns": null,
            "grid_template_rows": null,
            "height": null,
            "justify_content": null,
            "justify_items": null,
            "left": null,
            "margin": null,
            "max_height": null,
            "max_width": null,
            "min_height": null,
            "min_width": null,
            "object_fit": null,
            "object_position": null,
            "order": null,
            "overflow": null,
            "overflow_x": null,
            "overflow_y": null,
            "padding": null,
            "right": null,
            "top": null,
            "visibility": null,
            "width": null
          }
        },
        "e27c6ba3fdfb45508f932232ee94b3c2": {
          "model_module": "@jupyter-widgets/controls",
          "model_name": "DescriptionStyleModel",
          "model_module_version": "1.5.0",
          "state": {
            "_model_module": "@jupyter-widgets/controls",
            "_model_module_version": "1.5.0",
            "_model_name": "DescriptionStyleModel",
            "_view_count": null,
            "_view_module": "@jupyter-widgets/base",
            "_view_module_version": "1.2.0",
            "_view_name": "StyleView",
            "description_width": ""
          }
        },
        "0ebdf67ac7f9409f9b1a23a0478d2ba5": {
          "model_module": "@jupyter-widgets/controls",
          "model_name": "HBoxModel",
          "model_module_version": "1.5.0",
          "state": {
            "_dom_classes": [],
            "_model_module": "@jupyter-widgets/controls",
            "_model_module_version": "1.5.0",
            "_model_name": "HBoxModel",
            "_view_count": null,
            "_view_module": "@jupyter-widgets/controls",
            "_view_module_version": "1.5.0",
            "_view_name": "HBoxView",
            "box_style": "",
            "children": [
              "IPY_MODEL_9005471d30724a2cb20dcb632a15b0ab",
              "IPY_MODEL_47ba440223af46ed9ca9b5d119b5520e",
              "IPY_MODEL_74261c23ca504c6b96d1e651d1ba4206"
            ],
            "layout": "IPY_MODEL_96f4207faed94df1a0ea176e5d3c82e6"
          }
        },
        "9005471d30724a2cb20dcb632a15b0ab": {
          "model_module": "@jupyter-widgets/controls",
          "model_name": "HTMLModel",
          "model_module_version": "1.5.0",
          "state": {
            "_dom_classes": [],
            "_model_module": "@jupyter-widgets/controls",
            "_model_module_version": "1.5.0",
            "_model_name": "HTMLModel",
            "_view_count": null,
            "_view_module": "@jupyter-widgets/controls",
            "_view_module_version": "1.5.0",
            "_view_name": "HTMLView",
            "description": "",
            "description_tooltip": null,
            "layout": "IPY_MODEL_951c84880dab4293966201fae9a50a87",
            "placeholder": "​",
            "style": "IPY_MODEL_a8eb68ed799e432289ce7e271660d92b",
            "value": "Downloading (…)ve/main/spiece.model: 100%"
          }
        },
        "47ba440223af46ed9ca9b5d119b5520e": {
          "model_module": "@jupyter-widgets/controls",
          "model_name": "FloatProgressModel",
          "model_module_version": "1.5.0",
          "state": {
            "_dom_classes": [],
            "_model_module": "@jupyter-widgets/controls",
            "_model_module_version": "1.5.0",
            "_model_name": "FloatProgressModel",
            "_view_count": null,
            "_view_module": "@jupyter-widgets/controls",
            "_view_module_version": "1.5.0",
            "_view_name": "ProgressView",
            "bar_style": "success",
            "description": "",
            "description_tooltip": null,
            "layout": "IPY_MODEL_8a88cf6f3bde4464becdb2c6a578be30",
            "max": 791656,
            "min": 0,
            "orientation": "horizontal",
            "style": "IPY_MODEL_8ed4b72cdf93407f801983cf0e0595c6",
            "value": 791656
          }
        },
        "74261c23ca504c6b96d1e651d1ba4206": {
          "model_module": "@jupyter-widgets/controls",
          "model_name": "HTMLModel",
          "model_module_version": "1.5.0",
          "state": {
            "_dom_classes": [],
            "_model_module": "@jupyter-widgets/controls",
            "_model_module_version": "1.5.0",
            "_model_name": "HTMLModel",
            "_view_count": null,
            "_view_module": "@jupyter-widgets/controls",
            "_view_module_version": "1.5.0",
            "_view_name": "HTMLView",
            "description": "",
            "description_tooltip": null,
            "layout": "IPY_MODEL_b02311107e82417ea9844053fc47c916",
            "placeholder": "​",
            "style": "IPY_MODEL_0de98203c947440494e10a1ffc975cf5",
            "value": " 792k/792k [00:00&lt;00:00, 3.27MB/s]"
          }
        },
        "96f4207faed94df1a0ea176e5d3c82e6": {
          "model_module": "@jupyter-widgets/base",
          "model_name": "LayoutModel",
          "model_module_version": "1.2.0",
          "state": {
            "_model_module": "@jupyter-widgets/base",
            "_model_module_version": "1.2.0",
            "_model_name": "LayoutModel",
            "_view_count": null,
            "_view_module": "@jupyter-widgets/base",
            "_view_module_version": "1.2.0",
            "_view_name": "LayoutView",
            "align_content": null,
            "align_items": null,
            "align_self": null,
            "border": null,
            "bottom": null,
            "display": null,
            "flex": null,
            "flex_flow": null,
            "grid_area": null,
            "grid_auto_columns": null,
            "grid_auto_flow": null,
            "grid_auto_rows": null,
            "grid_column": null,
            "grid_gap": null,
            "grid_row": null,
            "grid_template_areas": null,
            "grid_template_columns": null,
            "grid_template_rows": null,
            "height": null,
            "justify_content": null,
            "justify_items": null,
            "left": null,
            "margin": null,
            "max_height": null,
            "max_width": null,
            "min_height": null,
            "min_width": null,
            "object_fit": null,
            "object_position": null,
            "order": null,
            "overflow": null,
            "overflow_x": null,
            "overflow_y": null,
            "padding": null,
            "right": null,
            "top": null,
            "visibility": null,
            "width": null
          }
        },
        "951c84880dab4293966201fae9a50a87": {
          "model_module": "@jupyter-widgets/base",
          "model_name": "LayoutModel",
          "model_module_version": "1.2.0",
          "state": {
            "_model_module": "@jupyter-widgets/base",
            "_model_module_version": "1.2.0",
            "_model_name": "LayoutModel",
            "_view_count": null,
            "_view_module": "@jupyter-widgets/base",
            "_view_module_version": "1.2.0",
            "_view_name": "LayoutView",
            "align_content": null,
            "align_items": null,
            "align_self": null,
            "border": null,
            "bottom": null,
            "display": null,
            "flex": null,
            "flex_flow": null,
            "grid_area": null,
            "grid_auto_columns": null,
            "grid_auto_flow": null,
            "grid_auto_rows": null,
            "grid_column": null,
            "grid_gap": null,
            "grid_row": null,
            "grid_template_areas": null,
            "grid_template_columns": null,
            "grid_template_rows": null,
            "height": null,
            "justify_content": null,
            "justify_items": null,
            "left": null,
            "margin": null,
            "max_height": null,
            "max_width": null,
            "min_height": null,
            "min_width": null,
            "object_fit": null,
            "object_position": null,
            "order": null,
            "overflow": null,
            "overflow_x": null,
            "overflow_y": null,
            "padding": null,
            "right": null,
            "top": null,
            "visibility": null,
            "width": null
          }
        },
        "a8eb68ed799e432289ce7e271660d92b": {
          "model_module": "@jupyter-widgets/controls",
          "model_name": "DescriptionStyleModel",
          "model_module_version": "1.5.0",
          "state": {
            "_model_module": "@jupyter-widgets/controls",
            "_model_module_version": "1.5.0",
            "_model_name": "DescriptionStyleModel",
            "_view_count": null,
            "_view_module": "@jupyter-widgets/base",
            "_view_module_version": "1.2.0",
            "_view_name": "StyleView",
            "description_width": ""
          }
        },
        "8a88cf6f3bde4464becdb2c6a578be30": {
          "model_module": "@jupyter-widgets/base",
          "model_name": "LayoutModel",
          "model_module_version": "1.2.0",
          "state": {
            "_model_module": "@jupyter-widgets/base",
            "_model_module_version": "1.2.0",
            "_model_name": "LayoutModel",
            "_view_count": null,
            "_view_module": "@jupyter-widgets/base",
            "_view_module_version": "1.2.0",
            "_view_name": "LayoutView",
            "align_content": null,
            "align_items": null,
            "align_self": null,
            "border": null,
            "bottom": null,
            "display": null,
            "flex": null,
            "flex_flow": null,
            "grid_area": null,
            "grid_auto_columns": null,
            "grid_auto_flow": null,
            "grid_auto_rows": null,
            "grid_column": null,
            "grid_gap": null,
            "grid_row": null,
            "grid_template_areas": null,
            "grid_template_columns": null,
            "grid_template_rows": null,
            "height": null,
            "justify_content": null,
            "justify_items": null,
            "left": null,
            "margin": null,
            "max_height": null,
            "max_width": null,
            "min_height": null,
            "min_width": null,
            "object_fit": null,
            "object_position": null,
            "order": null,
            "overflow": null,
            "overflow_x": null,
            "overflow_y": null,
            "padding": null,
            "right": null,
            "top": null,
            "visibility": null,
            "width": null
          }
        },
        "8ed4b72cdf93407f801983cf0e0595c6": {
          "model_module": "@jupyter-widgets/controls",
          "model_name": "ProgressStyleModel",
          "model_module_version": "1.5.0",
          "state": {
            "_model_module": "@jupyter-widgets/controls",
            "_model_module_version": "1.5.0",
            "_model_name": "ProgressStyleModel",
            "_view_count": null,
            "_view_module": "@jupyter-widgets/base",
            "_view_module_version": "1.2.0",
            "_view_name": "StyleView",
            "bar_color": null,
            "description_width": ""
          }
        },
        "b02311107e82417ea9844053fc47c916": {
          "model_module": "@jupyter-widgets/base",
          "model_name": "LayoutModel",
          "model_module_version": "1.2.0",
          "state": {
            "_model_module": "@jupyter-widgets/base",
            "_model_module_version": "1.2.0",
            "_model_name": "LayoutModel",
            "_view_count": null,
            "_view_module": "@jupyter-widgets/base",
            "_view_module_version": "1.2.0",
            "_view_name": "LayoutView",
            "align_content": null,
            "align_items": null,
            "align_self": null,
            "border": null,
            "bottom": null,
            "display": null,
            "flex": null,
            "flex_flow": null,
            "grid_area": null,
            "grid_auto_columns": null,
            "grid_auto_flow": null,
            "grid_auto_rows": null,
            "grid_column": null,
            "grid_gap": null,
            "grid_row": null,
            "grid_template_areas": null,
            "grid_template_columns": null,
            "grid_template_rows": null,
            "height": null,
            "justify_content": null,
            "justify_items": null,
            "left": null,
            "margin": null,
            "max_height": null,
            "max_width": null,
            "min_height": null,
            "min_width": null,
            "object_fit": null,
            "object_position": null,
            "order": null,
            "overflow": null,
            "overflow_x": null,
            "overflow_y": null,
            "padding": null,
            "right": null,
            "top": null,
            "visibility": null,
            "width": null
          }
        },
        "0de98203c947440494e10a1ffc975cf5": {
          "model_module": "@jupyter-widgets/controls",
          "model_name": "DescriptionStyleModel",
          "model_module_version": "1.5.0",
          "state": {
            "_model_module": "@jupyter-widgets/controls",
            "_model_module_version": "1.5.0",
            "_model_name": "DescriptionStyleModel",
            "_view_count": null,
            "_view_module": "@jupyter-widgets/base",
            "_view_module_version": "1.2.0",
            "_view_name": "StyleView",
            "description_width": ""
          }
        },
        "c21d5b9f70f94dadb30ddc1924bfaa70": {
          "model_module": "@jupyter-widgets/controls",
          "model_name": "HBoxModel",
          "model_module_version": "1.5.0",
          "state": {
            "_dom_classes": [],
            "_model_module": "@jupyter-widgets/controls",
            "_model_module_version": "1.5.0",
            "_model_name": "HBoxModel",
            "_view_count": null,
            "_view_module": "@jupyter-widgets/controls",
            "_view_module_version": "1.5.0",
            "_view_name": "HBoxView",
            "box_style": "",
            "children": [
              "IPY_MODEL_aab6a4ba8ae74478bf95266db4b33aa2",
              "IPY_MODEL_0aedcfcc3afa4a7987443d6643a78906",
              "IPY_MODEL_98438274884c441fbe21f320fb38dd72"
            ],
            "layout": "IPY_MODEL_eb07409e2259470d82614531143ecc10"
          }
        },
        "aab6a4ba8ae74478bf95266db4b33aa2": {
          "model_module": "@jupyter-widgets/controls",
          "model_name": "HTMLModel",
          "model_module_version": "1.5.0",
          "state": {
            "_dom_classes": [],
            "_model_module": "@jupyter-widgets/controls",
            "_model_module_version": "1.5.0",
            "_model_name": "HTMLModel",
            "_view_count": null,
            "_view_module": "@jupyter-widgets/controls",
            "_view_module_version": "1.5.0",
            "_view_name": "HTMLView",
            "description": "",
            "description_tooltip": null,
            "layout": "IPY_MODEL_d006a5103d1f4b0ea439bf3eb8b0bc1c",
            "placeholder": "​",
            "style": "IPY_MODEL_e97d0687f6c94ecb92061ee6a9ce1225",
            "value": "Downloading (…)okenizer_config.json: 100%"
          }
        },
        "0aedcfcc3afa4a7987443d6643a78906": {
          "model_module": "@jupyter-widgets/controls",
          "model_name": "FloatProgressModel",
          "model_module_version": "1.5.0",
          "state": {
            "_dom_classes": [],
            "_model_module": "@jupyter-widgets/controls",
            "_model_module_version": "1.5.0",
            "_model_name": "FloatProgressModel",
            "_view_count": null,
            "_view_module": "@jupyter-widgets/controls",
            "_view_module_version": "1.5.0",
            "_view_name": "ProgressView",
            "bar_style": "success",
            "description": "",
            "description_tooltip": null,
            "layout": "IPY_MODEL_d44c27d933d742b38fed52875e3c11db",
            "max": 2324,
            "min": 0,
            "orientation": "horizontal",
            "style": "IPY_MODEL_959222942ce441f5b9441f7f364451a5",
            "value": 2324
          }
        },
        "98438274884c441fbe21f320fb38dd72": {
          "model_module": "@jupyter-widgets/controls",
          "model_name": "HTMLModel",
          "model_module_version": "1.5.0",
          "state": {
            "_dom_classes": [],
            "_model_module": "@jupyter-widgets/controls",
            "_model_module_version": "1.5.0",
            "_model_name": "HTMLModel",
            "_view_count": null,
            "_view_module": "@jupyter-widgets/controls",
            "_view_module_version": "1.5.0",
            "_view_name": "HTMLView",
            "description": "",
            "description_tooltip": null,
            "layout": "IPY_MODEL_8700efbe91d5447e8bcdd8795b385a16",
            "placeholder": "​",
            "style": "IPY_MODEL_f6ebaa3034ba484aa37938e731308da7",
            "value": " 2.32k/2.32k [00:00&lt;00:00, 137kB/s]"
          }
        },
        "eb07409e2259470d82614531143ecc10": {
          "model_module": "@jupyter-widgets/base",
          "model_name": "LayoutModel",
          "model_module_version": "1.2.0",
          "state": {
            "_model_module": "@jupyter-widgets/base",
            "_model_module_version": "1.2.0",
            "_model_name": "LayoutModel",
            "_view_count": null,
            "_view_module": "@jupyter-widgets/base",
            "_view_module_version": "1.2.0",
            "_view_name": "LayoutView",
            "align_content": null,
            "align_items": null,
            "align_self": null,
            "border": null,
            "bottom": null,
            "display": null,
            "flex": null,
            "flex_flow": null,
            "grid_area": null,
            "grid_auto_columns": null,
            "grid_auto_flow": null,
            "grid_auto_rows": null,
            "grid_column": null,
            "grid_gap": null,
            "grid_row": null,
            "grid_template_areas": null,
            "grid_template_columns": null,
            "grid_template_rows": null,
            "height": null,
            "justify_content": null,
            "justify_items": null,
            "left": null,
            "margin": null,
            "max_height": null,
            "max_width": null,
            "min_height": null,
            "min_width": null,
            "object_fit": null,
            "object_position": null,
            "order": null,
            "overflow": null,
            "overflow_x": null,
            "overflow_y": null,
            "padding": null,
            "right": null,
            "top": null,
            "visibility": null,
            "width": null
          }
        },
        "d006a5103d1f4b0ea439bf3eb8b0bc1c": {
          "model_module": "@jupyter-widgets/base",
          "model_name": "LayoutModel",
          "model_module_version": "1.2.0",
          "state": {
            "_model_module": "@jupyter-widgets/base",
            "_model_module_version": "1.2.0",
            "_model_name": "LayoutModel",
            "_view_count": null,
            "_view_module": "@jupyter-widgets/base",
            "_view_module_version": "1.2.0",
            "_view_name": "LayoutView",
            "align_content": null,
            "align_items": null,
            "align_self": null,
            "border": null,
            "bottom": null,
            "display": null,
            "flex": null,
            "flex_flow": null,
            "grid_area": null,
            "grid_auto_columns": null,
            "grid_auto_flow": null,
            "grid_auto_rows": null,
            "grid_column": null,
            "grid_gap": null,
            "grid_row": null,
            "grid_template_areas": null,
            "grid_template_columns": null,
            "grid_template_rows": null,
            "height": null,
            "justify_content": null,
            "justify_items": null,
            "left": null,
            "margin": null,
            "max_height": null,
            "max_width": null,
            "min_height": null,
            "min_width": null,
            "object_fit": null,
            "object_position": null,
            "order": null,
            "overflow": null,
            "overflow_x": null,
            "overflow_y": null,
            "padding": null,
            "right": null,
            "top": null,
            "visibility": null,
            "width": null
          }
        },
        "e97d0687f6c94ecb92061ee6a9ce1225": {
          "model_module": "@jupyter-widgets/controls",
          "model_name": "DescriptionStyleModel",
          "model_module_version": "1.5.0",
          "state": {
            "_model_module": "@jupyter-widgets/controls",
            "_model_module_version": "1.5.0",
            "_model_name": "DescriptionStyleModel",
            "_view_count": null,
            "_view_module": "@jupyter-widgets/base",
            "_view_module_version": "1.2.0",
            "_view_name": "StyleView",
            "description_width": ""
          }
        },
        "d44c27d933d742b38fed52875e3c11db": {
          "model_module": "@jupyter-widgets/base",
          "model_name": "LayoutModel",
          "model_module_version": "1.2.0",
          "state": {
            "_model_module": "@jupyter-widgets/base",
            "_model_module_version": "1.2.0",
            "_model_name": "LayoutModel",
            "_view_count": null,
            "_view_module": "@jupyter-widgets/base",
            "_view_module_version": "1.2.0",
            "_view_name": "LayoutView",
            "align_content": null,
            "align_items": null,
            "align_self": null,
            "border": null,
            "bottom": null,
            "display": null,
            "flex": null,
            "flex_flow": null,
            "grid_area": null,
            "grid_auto_columns": null,
            "grid_auto_flow": null,
            "grid_auto_rows": null,
            "grid_column": null,
            "grid_gap": null,
            "grid_row": null,
            "grid_template_areas": null,
            "grid_template_columns": null,
            "grid_template_rows": null,
            "height": null,
            "justify_content": null,
            "justify_items": null,
            "left": null,
            "margin": null,
            "max_height": null,
            "max_width": null,
            "min_height": null,
            "min_width": null,
            "object_fit": null,
            "object_position": null,
            "order": null,
            "overflow": null,
            "overflow_x": null,
            "overflow_y": null,
            "padding": null,
            "right": null,
            "top": null,
            "visibility": null,
            "width": null
          }
        },
        "959222942ce441f5b9441f7f364451a5": {
          "model_module": "@jupyter-widgets/controls",
          "model_name": "ProgressStyleModel",
          "model_module_version": "1.5.0",
          "state": {
            "_model_module": "@jupyter-widgets/controls",
            "_model_module_version": "1.5.0",
            "_model_name": "ProgressStyleModel",
            "_view_count": null,
            "_view_module": "@jupyter-widgets/base",
            "_view_module_version": "1.2.0",
            "_view_name": "StyleView",
            "bar_color": null,
            "description_width": ""
          }
        },
        "8700efbe91d5447e8bcdd8795b385a16": {
          "model_module": "@jupyter-widgets/base",
          "model_name": "LayoutModel",
          "model_module_version": "1.2.0",
          "state": {
            "_model_module": "@jupyter-widgets/base",
            "_model_module_version": "1.2.0",
            "_model_name": "LayoutModel",
            "_view_count": null,
            "_view_module": "@jupyter-widgets/base",
            "_view_module_version": "1.2.0",
            "_view_name": "LayoutView",
            "align_content": null,
            "align_items": null,
            "align_self": null,
            "border": null,
            "bottom": null,
            "display": null,
            "flex": null,
            "flex_flow": null,
            "grid_area": null,
            "grid_auto_columns": null,
            "grid_auto_flow": null,
            "grid_auto_rows": null,
            "grid_column": null,
            "grid_gap": null,
            "grid_row": null,
            "grid_template_areas": null,
            "grid_template_columns": null,
            "grid_template_rows": null,
            "height": null,
            "justify_content": null,
            "justify_items": null,
            "left": null,
            "margin": null,
            "max_height": null,
            "max_width": null,
            "min_height": null,
            "min_width": null,
            "object_fit": null,
            "object_position": null,
            "order": null,
            "overflow": null,
            "overflow_x": null,
            "overflow_y": null,
            "padding": null,
            "right": null,
            "top": null,
            "visibility": null,
            "width": null
          }
        },
        "f6ebaa3034ba484aa37938e731308da7": {
          "model_module": "@jupyter-widgets/controls",
          "model_name": "DescriptionStyleModel",
          "model_module_version": "1.5.0",
          "state": {
            "_model_module": "@jupyter-widgets/controls",
            "_model_module_version": "1.5.0",
            "_model_name": "DescriptionStyleModel",
            "_view_count": null,
            "_view_module": "@jupyter-widgets/base",
            "_view_module_version": "1.2.0",
            "_view_name": "StyleView",
            "description_width": ""
          }
        }
      }
    }
  },
  "nbformat": 4,
  "nbformat_minor": 0
}